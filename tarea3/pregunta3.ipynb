{
 "cells": [
  {
   "cell_type": "markdown",
   "metadata": {},
   "source": [
    "# Pregunta 3\n",
    "\n",
    "Máquinas de aprendizaje para reconocimiento de imágenes en CIFAR10. Este es un dataset balanceado de 60000 imágenes de 32x32 pixeles, con 10 clases. En este caso se han dividido 50000 imágenes de entrenamiento y 10000 de prueba. Las clases a las cuales pertenece la imagen se muestran a continuación."
   ]
  },
  {
   "cell_type": "code",
   "execution_count": 1,
   "metadata": {
    "collapsed": false
   },
   "outputs": [
    {
     "name": "stdout",
     "output_type": "stream",
     "text": [
      "['airplane', 'automobile', 'bird', 'cat', 'deer', 'dog', 'frog', 'horse', 'ship', 'truck']\n"
     ]
    }
   ],
   "source": [
    "label_names = ['airplane', 'automobile', 'bird', 'cat', 'deer', 'dog', 'frog', 'horse', 'ship', 'truck']\n",
    "print label_names"
   ]
  },
  {
   "cell_type": "markdown",
   "metadata": {},
   "source": [
    "## a) Cargar datos de entrenamiento, prueba y validación.\n",
    "\n",
    "Se eligen como máximo 10000 imágenes del conjunto de entrenamiento para generar el conjunto de validación."
   ]
  },
  {
   "cell_type": "code",
   "execution_count": 2,
   "metadata": {
    "collapsed": false,
    "scrolled": false
   },
   "outputs": [],
   "source": [
    "import cPickle as pickle\n",
    "import numpy as np\n",
    "import os\n",
    "from sklearn.model_selection import train_test_split\n",
    "\n",
    "def unpickle(file):\n",
    "    fo = open(file, 'rb')\n",
    "    dict = cPickle.load(fo)\n",
    "    fo.close()\n",
    "    return dict\n",
    "\n",
    "def load_CIFAR_one(filename):\n",
    "    with open(filename, 'rb') as f:\n",
    "        datadict = pickle.load(f)\n",
    "        X = datadict['data']\n",
    "        Y = datadict['labels']\n",
    "        return X, np.array(Y)\n",
    "    \n",
    "def load_CIFAR10(PATH, n_val=10000):\n",
    "    if n_val > 10000:\n",
    "        n_val = 10000\n",
    "    xs = []\n",
    "    ys = []\n",
    "    for b in range(1,6):\n",
    "        f = os.path.join(PATH, 'data_batch_%d' % (b, ))\n",
    "        X, Y = load_CIFAR_one(f)\n",
    "        xs.append(X)\n",
    "        ys.append(Y)\n",
    "    xtr = np.concatenate(xs)\n",
    "    ytr = np.concatenate(ys)\n",
    "    Xtr, Xval, Ytr, Yval = train_test_split(xtr, ytr, test_size=n_val, random_state=0)\n",
    "    #Xval = Xtr[-n_val:Xtr.shape[0]]\n",
    "    #Yval = Ytr[-n_val:Ytr.shape[0]]\n",
    "    #Xtr = Xtr[:-n_val]\n",
    "    #Ytr = Ytr[:-n_val]\n",
    "    del X, Y, xtr, ytr\n",
    "    Xte, Yte = load_CIFAR_one(os.path.join(PATH, 'test_batch'))\n",
    "    return Xtr, Ytr, Xval, Yval, Xte, Yte"
   ]
  },
  {
   "cell_type": "code",
   "execution_count": 7,
   "metadata": {
    "collapsed": false
   },
   "outputs": [],
   "source": [
    "Xtr, Ytr, Xval, Yval, Xte, Yte = load_CIFAR10('.')"
   ]
  },
  {
   "cell_type": "markdown",
   "metadata": {},
   "source": [
    "## b) Escalamiento de datos."
   ]
  },
  {
   "cell_type": "code",
   "execution_count": 8,
   "metadata": {
    "collapsed": false
   },
   "outputs": [
    {
     "name": "stderr",
     "output_type": "stream",
     "text": [
      "Using Theano backend.\n"
     ]
    }
   ],
   "source": [
    "from keras.utils.np_utils import to_categorical\n",
    "from sklearn.preprocessing import StandardScaler\n",
    "\n",
    "def scaler_function(Xtr,Xval,Xt,other=True, scale=True):\n",
    "    if other:\n",
    "        Xtr_scaled = Xtr / 255.\n",
    "        Xval_scaled = Xval / 255.\n",
    "        Xt_scaled = Xt / 255.\n",
    "        return Xtr_scaled, Xval_scaled, Xt_scaled\n",
    "    scaler = StandardScaler(with_std=scale).fit(Xtr)\n",
    "    Xtr_scaled = scaler.transform(Xtr)\n",
    "    Xval_scaled = scaler.transform(Xval)\n",
    "    Xt_scaled = scaler.transform(Xt)\n",
    "    return Xtr_scaled, Xval_scaled, Xt_scaled"
   ]
  },
  {
   "cell_type": "code",
   "execution_count": 9,
   "metadata": {
    "collapsed": false
   },
   "outputs": [
    {
     "data": {
      "image/png": "[encoded data removed]",
      "text/plain": [
       "<matplotlib.figure.Figure at 0x7f07229966d0>"
      ]
     },
     "metadata": {},
     "output_type": "display_data"
    },
    {
     "data": {
      "image/png": "[encoded data removed]",
      "text/plain": [
       "<matplotlib.figure.Figure at 0x7f07205c0490>"
      ]
     },
     "metadata": {},
     "output_type": "display_data"
    },
    {
     "data": {
      "image/png": "[encoded data removed]",
      "text/plain": [
       "<matplotlib.figure.Figure at 0x7f072041d510>"
      ]
     },
     "metadata": {},
     "output_type": "display_data"
    },
    {
     "data": {
      "image/png": "[encoded data removed]",
      "text/plain": [
       "<matplotlib.figure.Figure at 0x7f0720385a50>"
      ]
     },
     "metadata": {},
     "output_type": "display_data"
    }
   ],
   "source": [
    "%matplotlib inline\n",
    "import matplotlib.pyplot as plt\n",
    "\n",
    "# Imagen de ejemplo sin dataset escalado.\n",
    "plt.figure(figsize=(1,1))\n",
    "sample = Xtr[12].reshape(3,32,32).T\n",
    "plt.imshow(sample, interpolation=\"nearest\")\n",
    "plt.show()\n",
    "\n",
    "\n",
    "# Imagen de ejemplo normalizando pixeles por 255\n",
    "Xtr_scaled, Xval_scaled, Xt_scaled = scaler_function(Xtr.astype(np.float64), \n",
    "                                                     Xval.astype(np.float64), \n",
    "                                                     Xte.astype(np.float64),\n",
    "                                                     other=True)\n",
    "plt.figure(figsize=(1,1))\n",
    "sample = Xtr_scaled[12].reshape(3,32,32).T\n",
    "plt.imshow(sample, interpolation=\"nearest\")\n",
    "plt.show()\n",
    "del Xtr_scaled, Xval_scaled, Xt_scaled\n",
    "\n",
    "\n",
    "# Imagen de ejemplo solo centrando datos\n",
    "Xtr_scaled, Xval_scaled, Xt_scaled = scaler_function(Xtr.astype(np.float64), \n",
    "                                                     Xval.astype(np.float64), \n",
    "                                                     Xte.astype(np.float64), \n",
    "                                                     other=False, scale=False)\n",
    "plt.figure(figsize=(1,1))\n",
    "sample = Xtr_scaled[12].reshape(3,32,32).T\n",
    "plt.imshow(sample, interpolation=\"nearest\")\n",
    "plt.show()\n",
    "\n",
    "# Imagen de ejemplo normalizando datos\n",
    "Xtr_scaled, Xval_scaled, Xt_scaled = scaler_function(Xtr.astype(np.float64),\n",
    "                                                     Xval.astype(np.float64),\n",
    "                                                     Xte.astype(np.float64),\n",
    "                                                     other=False, scale=True)\n",
    "plt.figure(figsize=(1,1))\n",
    "sample = Xtr_scaled[12].reshape(3,32,32).T\n",
    "plt.imshow(sample, interpolation=\"nearest\")\n",
    "plt.show()"
   ]
  },
  {
   "cell_type": "markdown",
   "metadata": {},
   "source": [
    "## c) Redes neuronales con distintas arquitecturas para clasificación de CIFAR10\n",
    "\n",
    "Estas redes tienen, nominalmente, el propósito de bajar el error de pruebas bajo 0.5. Las métricas analizadas son loss (binary crossentropy) y el error de accuracy."
   ]
  },
  {
   "cell_type": "code",
   "execution_count": 5,
   "metadata": {
    "collapsed": false
   },
   "outputs": [
    {
     "name": "stderr",
     "output_type": "stream",
     "text": [
      "Using Theano backend.\n"
     ]
    }
   ],
   "source": [
    "from keras.utils.np_utils import to_categorical\n",
    "from sklearn.preprocessing import StandardScaler\n",
    "from keras.models import Sequential, load_model\n",
    "from keras.layers import Dense, Activation, Dropout\n",
    "from keras.optimizers import SGD"
   ]
  },
  {
   "cell_type": "code",
   "execution_count": 8,
   "metadata": {
    "collapsed": false
   },
   "outputs": [
    {
     "name": "stderr",
     "output_type": "stream",
     "text": [
      "/usr/lib64/python2.7/site-packages/sklearn/utils/validation.py:420: DataConversionWarning: Data with input dtype uint8 was converted to float64 by StandardScaler.\n",
      "  warnings.warn(msg, DataConversionWarning)\n",
      "/usr/lib64/python2.7/site-packages/sklearn/utils/validation.py:420: DataConversionWarning: Data with input dtype uint8 was converted to float64 by StandardScaler.\n",
      "  warnings.warn(msg, DataConversionWarning)\n",
      "/usr/lib64/python2.7/site-packages/sklearn/utils/validation.py:420: DataConversionWarning: Data with input dtype uint8 was converted to float64 by StandardScaler.\n",
      "  warnings.warn(msg, DataConversionWarning)\n",
      "/usr/lib64/python2.7/site-packages/sklearn/utils/validation.py:420: DataConversionWarning: Data with input dtype uint8 was converted to float64 by StandardScaler.\n",
      "  warnings.warn(msg, DataConversionWarning)\n"
     ]
    }
   ],
   "source": [
    "# Escalar datos\n",
    "Xtr, Xval, Xte = scaler_function(Xtr, Xval, Xte, other=False)\n",
    "Ytr_cat = to_categorical(Ytr, 10)\n",
    "Yval_cat = to_categorical(Yval, 10)\n",
    "Yte_cat = to_categorical(Yte, 10)"
   ]
  },
  {
   "cell_type": "markdown",
   "metadata": {},
   "source": [
    "### 1) Modelo entregado en enunciado"
   ]
  },
  {
   "cell_type": "code",
   "execution_count": 15,
   "metadata": {
    "collapsed": false
   },
   "outputs": [],
   "source": [
    "model = Sequential()\n",
    "model.add(Dense(100, input_dim=Xtr.shape[1], init='uniform', activation='relu'))\n",
    "model.add(Dropout(0.1))\n",
    "model.add(Dense(10, init='uniform', activation='softmax'))\n",
    "model.compile(optimizer=SGD(lr=0.05), loss='binary_crossentropy', metrics=['accuracy'])\n",
    "model.fit(Xtr, Ytr_cat, nb_epoch=50, batch_size=32, verbose=1, validation_data=(Xval,Yval_cat))\n",
    "model.save(\"arch_1.h5\")"
   ]
  },
  {
   "cell_type": "code",
   "execution_count": 9,
   "metadata": {
    "collapsed": false
   },
   "outputs": [
    {
     "name": "stdout",
     "output_type": "stream",
     "text": [
      " 9952/10000 [============================>.] - ETA: 0s\n",
      "Error de accuracy:  0.0836399992943\n",
      "\n",
      "Loss: 0.227352060699\n"
     ]
    }
   ],
   "source": [
    "model = load_model(\"arch_1.h5\")\n",
    "scores = model.evaluate(Xval, Yval_cat,)\n",
    "print \"\\nError de accuracy: \", 1 - scores[1]\n",
    "print \"\\nLoss:\", scores[0]\n",
    "del model"
   ]
  },
  {
   "cell_type": "markdown",
   "metadata": {},
   "source": [
    "### 2) Modelo deep 3 de capas ocultas y mix de activaciones"
   ]
  },
  {
   "cell_type": "code",
   "execution_count": 17,
   "metadata": {
    "collapsed": false
   },
   "outputs": [],
   "source": [
    "model = Sequential()\n",
    "model.add(Dense(200, input_dim=Xtr.shape[1], init='uniform', activation='relu'))\n",
    "model.add(Dropout(0.1))\n",
    "model.add(Dense(100, init='uniform', activation='sigmoid'))\n",
    "model.add(Dropout(0.1))\n",
    "model.add(Dense(50, init='uniform', activation='relu'))\n",
    "model.add(Dropout(0.1))\n",
    "model.add(Dense(10, init='uniform', activation='softmax'))\n",
    "model.compile(optimizer=SGD(lr=0.1), loss='binary_crossentropy', metrics=['accuracy'])\n",
    "model.fit(Xtr, Ytr_cat, nb_epoch=50, batch_size=32, verbose=1, validation_data=(Xval,Yval_cat))\n",
    "model.save(\"arch_2.h5\")"
   ]
  },
  {
   "cell_type": "code",
   "execution_count": 10,
   "metadata": {
    "collapsed": false
   },
   "outputs": [
    {
     "name": "stdout",
     "output_type": "stream",
     "text": [
      " 9952/10000 [============================>.] - ETA: 0s\n",
      "Error de accuracy:  0.0971399983406\n",
      "\n",
      "Loss: 0.443895714951\n"
     ]
    }
   ],
   "source": [
    "model = load_model(\"arch_2.h5\")\n",
    "scores = model.evaluate(Xval, Yval_cat,)\n",
    "print \"\\nError de accuracy: \", 1 - scores[1]\n",
    "print \"\\nLoss:\", scores[0]\n",
    "del model"
   ]
  },
  {
   "cell_type": "markdown",
   "metadata": {},
   "source": [
    "### 3) Modelo anterior con dropout aumentado"
   ]
  },
  {
   "cell_type": "code",
   "execution_count": null,
   "metadata": {
    "collapsed": true
   },
   "outputs": [],
   "source": [
    "model = Sequential()\n",
    "model.add(Dense(200, input_dim=Xtr.shape[1], init='uniform', activation='relu'))\n",
    "model.add(Dropout(0.4))\n",
    "model.add(Dense(100, init='uniform', activation='sigmoid'))\n",
    "model.add(Dropout(0.4))\n",
    "model.add(Dense(50, init='uniform', activation='relu'))\n",
    "model.add(Dropout(0.4))\n",
    "model.add(Dense(10, init='uniform', activation='softmax'))\n",
    "model.compile(optimizer=SGD(lr=0.1), loss='binary_crossentropy', metrics=['accuracy'])\n",
    "model.fit(Xtr, Ytr_cat, nb_epoch=50, batch_size=32, verbose=1, validation_data=(Xval,Yval_cat))\n",
    "model.save(\"arch_3.h5\")"
   ]
  },
  {
   "cell_type": "code",
   "execution_count": 12,
   "metadata": {
    "collapsed": false
   },
   "outputs": [
    {
     "name": "stdout",
     "output_type": "stream",
     "text": [
      " 9952/10000 [============================>.] - ETA: 0s\n",
      "Error de accuracy:  0.0799599991798\n",
      "\n",
      "Loss: 0.208769626927\n"
     ]
    }
   ],
   "source": [
    "model = load_model(\"arch_3.h5\")\n",
    "scores = model.evaluate(Xval, Yval_cat,)\n",
    "print \"\\nError de accuracy: \", 1 - scores[1]\n",
    "print \"\\nLoss:\", scores[0]\n",
    "del model"
   ]
  },
  {
   "cell_type": "markdown",
   "metadata": {},
   "source": [
    "El error de accuracy y la métrica loss sobre el conjunto de validación fue menor para el último modelo. Finalmente los resultados sobre el conjunto de pruebas se reportan a continuación:"
   ]
  },
  {
   "cell_type": "code",
   "execution_count": 13,
   "metadata": {
    "collapsed": false
   },
   "outputs": [
    {
     "name": "stdout",
     "output_type": "stream",
     "text": [
      " 9984/10000 [============================>.] - ETA: 0s\n",
      "Error de accuracy:  0.0808700006485\n",
      "\n",
      "Loss: 0.208661009645\n"
     ]
    }
   ],
   "source": [
    "model = load_model(\"arch_3.h5\")\n",
    "scores = model.evaluate(Xte, Yte_cat,)\n",
    "print \"\\nError de accuracy: \", 1 - scores[1]\n",
    "print \"\\nLoss:\", scores[0]\n",
    "del model"
   ]
  },
  {
   "cell_type": "markdown",
   "metadata": {},
   "source": [
    "## d) Mejorando resultados con features de alto nivel."
   ]
  },
  {
   "cell_type": "code",
   "execution_count": 11,
   "metadata": {
    "collapsed": true
   },
   "outputs": [],
   "source": [
    "from top_level_features import hog_features\n",
    "from top_level_features import color_histogram_hsv\n",
    "from top_level_features import extract_features"
   ]
  },
  {
   "cell_type": "code",
   "execution_count": null,
   "metadata": {
    "collapsed": false
   },
   "outputs": [],
   "source": [
    "Xtr, Ytr, Xval, Yval, Xte, Yte = load_CIFAR10('.')\n",
    "\n",
    "features_Xtr = extract_features(Xtr,[hog_features, color_histogram_hsv])\n",
    "features_Xval = extract_features(Xval,[hog_features, color_histogram_hsv])\n",
    "\n",
    "Ytr_cat = to_categorical(Ytr, 10)\n",
    "Yval_cat = to_categorical(Yval, 10)\n",
    "Yte_cat = to_categorical(Yte, 10)\n",
    "\n",
    "model = Sequential()\n",
    "model.add(Dense(200, input_dim=features_Xtr.shape[1], init='uniform', activation='relu'))\n",
    "model.add(Dropout(0.4))\n",
    "model.add(Dense(100, init='uniform', activation='sigmoid'))\n",
    "model.add(Dropout(0.4))\n",
    "model.add(Dense(50, init='uniform', activation='relu'))\n",
    "model.add(Dropout(0.4))\n",
    "model.add(Dense(10, init='uniform', activation='softmax'))\n",
    "model.compile(optimizer=SGD(lr=0.1), loss='binary_crossentropy', metrics=['accuracy'])\n",
    "model.fit(features_Xtr, Ytr_cat, nb_epoch=50, batch_size=32, verbose=1, validation_data=(features_Xval,Yval_cat))\n",
    "model.save(\"arch_3_ALL.h5\")\n",
    "\n",
    "features_Xtr = extract_features(Xtr,[hog_features])\n",
    "features_Xval = extract_features(Xval,[hog_features])\n",
    "\n",
    "model = Sequential()\n",
    "model.add(Dense(200, input_dim=features_Xtr.shape[1], init='uniform', activation='relu'))\n",
    "model.add(Dropout(0.4))\n",
    "model.add(Dense(100, init='uniform', activation='sigmoid'))\n",
    "model.add(Dropout(0.4))\n",
    "model.add(Dense(50, init='uniform', activation='relu'))\n",
    "model.add(Dropout(0.4))\n",
    "model.add(Dense(10, init='uniform', activation='softmax'))\n",
    "model.compile(optimizer=SGD(lr=0.1), loss='binary_crossentropy', metrics=['accuracy'])\n",
    "model.fit(features_Xtr, Ytr_cat, nb_epoch=50, batch_size=32, verbose=1, validation_data=(features_Xval,Yval_cat))\n",
    "model.save(\"arch_3_HOG.h5\")\n",
    "\n",
    "features_Xtr = extract_features(Xtr,[color_histogram_hsv])\n",
    "features_Xval = extract_features(Xval,[color_histogram_hsv])\n",
    "\n",
    "model = Sequential()\n",
    "model.add(Dense(200, input_dim=features_Xtr.shape[1], init='uniform', activation='relu'))\n",
    "model.add(Dropout(0.4))\n",
    "model.add(Dense(100, init='uniform', activation='sigmoid'))\n",
    "model.add(Dropout(0.4))\n",
    "model.add(Dense(50, init='uniform', activation='relu'))\n",
    "model.add(Dropout(0.4))\n",
    "model.add(Dense(10, init='uniform', activation='softmax'))\n",
    "model.compile(optimizer=SGD(lr=0.1), loss='binary_crossentropy', metrics=['accuracy'])\n",
    "model.fit(features_Xtr, Ytr_cat, nb_epoch=50, batch_size=32, verbose=1, validation_data=(features_Xval,Yval_cat))\n",
    "model.save(\"arch_3_HSV.h5\")"
   ]
  },
  {
   "cell_type": "code",
   "execution_count": 18,
   "metadata": {
    "collapsed": false
   },
   "outputs": [
    {
     "name": "stdout",
     "output_type": "stream",
     "text": [
      "(10000, 32, 32, 3)\n",
      "ALL:\n",
      " 9984/10000 [============================>.] - ETA: 0s\n",
      "Error de accuracy:  0.077370000267\n",
      "\n",
      "Loss: 0.202417908764\n",
      "(10000, 32, 32, 3)\n",
      "HOG:\n",
      " 9728/10000 [============================>.] - ETA: 0s\n",
      "Error de accuracy:  0.0794300010681\n",
      "\n",
      "Loss: 0.209651019859\n",
      "(10000, 32, 32, 3)\n",
      "HSV:\n",
      " 9696/10000 [============================>.] - ETA: 0s\n",
      "Error de accuracy:  0.100000023842\n",
      "\n",
      "Loss: 0.325090112877\n"
     ]
    }
   ],
   "source": [
    "Xtr, Ytr, Xval, Yval, Xte, Yte = load_CIFAR10('.')\n",
    "features_Xval = extract_features(Xval,[hog_features, color_histogram_hsv])\n",
    "model = load_model(\"arch_3_ALL.h5\")\n",
    "print \"ALL:\"\n",
    "scores = model.evaluate(features_Xval, Yval_cat)\n",
    "print \"\\nError de accuracy: \", 1 - scores[1]\n",
    "print \"\\nLoss:\", scores[0]\n",
    "del model\n",
    "\n",
    "features_Xval = extract_features(Xval,[hog_features])\n",
    "model = load_model(\"arch_3_HOG.h5\")\n",
    "print \"HOG:\"\n",
    "scores = model.evaluate(features_Xval, Yval_cat)\n",
    "print \"\\nError de accuracy: \", 1 - scores[1]\n",
    "print \"\\nLoss:\", scores[0]\n",
    "del model\n",
    "\n",
    "features_Xval = extract_features(Xval,[color_histogram_hsv])\n",
    "model = load_model(\"arch_3_HSV.h5\")\n",
    "print \"HSV:\"\n",
    "scores = model.evaluate(features_Xval, Yval_cat)\n",
    "print \"\\nError de accuracy: \", 1 - scores[1]\n",
    "print \"\\nLoss:\", scores[0]\n",
    "del model"
   ]
  },
  {
   "cell_type": "markdown",
   "metadata": {},
   "source": [
    "Es posible apreciar que el mejor resultado se obtuvo cuando se utilizaron todas las features de alto nivel, que por supuesto redujeron la dimensionalidad enormemente a 154 features (144 hog + 10 hsv). Por lo mismo la red fue entrenada mucho más rápido (3s/epoch versus 20s/epoch).\n",
    "\n",
    "La extracción de features mejoró en efecto todas las métricas revisadas. El mayor aporte en este caso se refieren a la extracción de features HOG."
   ]
  },
  {
   "cell_type": "markdown",
   "metadata": {},
   "source": [
    "### e) SVM no lineal para resolver clasficación en CIFAR10"
   ]
  },
  {
   "cell_type": "code",
   "execution_count": null,
   "metadata": {
    "collapsed": true
   },
   "outputs": [],
   "source": [
    "from sklearn.svm import SVC\n",
    "\n",
    "Xtr, Ytr, Xval, Yval, Xte, Yte = load_CIFAR10('.')\n",
    "\n",
    "features_Xtr = extract_features(Xtr,[hog_features, color_histogram_hsv])\n",
    "features_Xval = extract_features(Xval,[hog_features, color_histogram_hsv])\n",
    "\n",
    "C = np.logspace(-5, 3, 9)\n",
    "kernel = ['rbf','poly', 'sigmoid']\n",
    "print \"Features All\"\n",
    "for k in kernel:\n",
    "    for c in C:\n",
    "        print \"Kernel %s\"%k+\", C=%.0e\"%c\n",
    "        svm = SVC(kernel=k, C=c, verbose=False)\n",
    "        \"Entrenando...\"\n",
    "        svm.fit(features_Xtr, Ytr)\n",
    "        \"Calculando score...\"\n",
    "        score = svm.score(features_Xval, Yval)\n",
    "        print \"Score sobre conjunto de validación:\",score\n",
    "\n",
    "## Solo features hsv\n",
    "features_Xtr = extract_features(Xtr,[color_histogram_hsv])\n",
    "features_Xval = extract_features(Xval,[color_histogram_hsv])\n",
    "C = np.logspace(-5, 3, 9)\n",
    "kernel = ['rbf', 'poly', 'sigmoid']\n",
    "print \"Features HSV\"\n",
    "for k in kernel:\n",
    "    for c in C:\n",
    "        print \"Kernel %s\"%k+\", C=%.0e\"%c\n",
    "        svm = SVC(kernel=k, C=c, verbose=False)\n",
    "        \"Entrenando...\"\n",
    "        svm.fit(features_Xtr, Ytr)\n",
    "        \"Calculando score...\"\n",
    "        score = svm.score(features_Xval, Yval)\n",
    "        print \"Score sobre conjunto de validación:\",score\n",
    "\n",
    "\n",
    "features_Xtr = extract_features(Xtr,[hog_features])\n",
    "features_Xval = extract_features(Xval,[hog_features])\n",
    "C = np.logspace(-5, 3, 9)\n",
    "kernel = ['rbf', 'poly', 'sigmoid']\n",
    "print \"Features HOG\"\n",
    "for k in kernel:\n",
    "    for c in C:\n",
    "        print \"Kernel %s\"%k+\", C=%.0e\"%c\n",
    "        svm = SVC(kernel=k, C=c, verbose=False)\n",
    "        \"Entrenando...\"\n",
    "        svm.fit(features_Xtr, Ytr)\n",
    "        \"Calculando score...\"\n",
    "        score = svm.score(features_Xval, Yval)\n",
    "        print \"Score sobre conjunto de validación:\",score\n"
   ]
  },
  {
   "cell_type": "code",
   "execution_count": 2,
   "metadata": {
    "collapsed": false,
    "scrolled": true
   },
   "outputs": [
    {
     "name": "stdout",
     "output_type": "stream",
     "text": [
      "(40000, 32, 32, 3)\n",
      "(10000, 32, 32, 3)\n",
      "Features All\n",
      "\n",
      "Kernel rbf, C=1e-05\n",
      "Score sobre conjunto de validación: 0.0952\n",
      "Kernel rbf, C=1e-04\n",
      "Score sobre conjunto de validación: 0.0952\n",
      "Kernel rbf, C=1e-03\n",
      "Score sobre conjunto de validación: 0.0952\n",
      "Kernel rbf, C=1e-02\n",
      "Score sobre conjunto de validación: 0.244\n",
      "Kernel rbf, C=1e-01\n",
      "Score sobre conjunto de validación: 0.3677\n",
      "Kernel rbf, C=1e+00\n",
      "Score sobre conjunto de validación: 0.5449\n",
      "Kernel rbf, C=1e+01\n",
      "Score sobre conjunto de validación: 0.5573\n",
      "Kernel rbf, C=1e+02\n",
      "Score sobre conjunto de validación: 0.5567\n",
      "Kernel rbf, C=1e+03\n",
      "Score sobre conjunto de validación: 0.5567\n",
      "\n",
      "Kernel poly, C=1e-05\n",
      "Score sobre conjunto de validación: 0.13\n",
      "Kernel poly, C=1e-04\n",
      "Score sobre conjunto de validación: 0.2677\n",
      "Kernel poly, C=1e-03\n",
      "Score sobre conjunto de validación: 0.4202\n",
      "Kernel poly, C=1e-02\n",
      "Score sobre conjunto de validación: 0.5225\n",
      "Kernel poly, C=1e-01\n",
      "Score sobre conjunto de validación: 0.5566\n",
      "Kernel poly, C=1e+00\n",
      "Score sobre conjunto de validación: 0.5542\n",
      "Kernel poly, C=1e+01\n",
      "Score sobre conjunto de validación: 0.5419\n",
      "Kernel poly, C=1e+02\n",
      "Score sobre conjunto de validación: 0.5313\n",
      "Kernel poly, C=1e+03\n",
      "Score sobre conjunto de validación: 0.5255\n",
      "\n",
      "Kernel sigmoid, C=1e-05\n",
      "Score sobre conjunto de validación: 0.0952\n",
      "Kernel sigmoid, C=1e-04\n",
      "Score sobre conjunto de validación: 0.0952\n",
      "Kernel sigmoid, C=1e-03\n",
      "Score sobre conjunto de validación: 0.0952\n",
      "Kernel sigmoid, C=1e-02\n",
      "Score sobre conjunto de validación: 0.0952\n",
      "Kernel sigmoid, C=1e-01\n",
      "Score sobre conjunto de validación: 0.0952\n",
      "Kernel sigmoid, C=1e+00\n",
      "Score sobre conjunto de validación: 0.0952\n",
      "Kernel sigmoid, C=1e+01\n",
      "Score sobre conjunto de validación: 0.0952\n",
      "Kernel sigmoid, C=1e+02\n",
      "Score sobre conjunto de validación: 0.0952\n",
      "Kernel sigmoid, C=1e+03\n",
      "Score sobre conjunto de validación: 0.0952\n",
      "\n",
      "(40000, 32, 32, 3)\n",
      "(10000, 32, 32, 3)\n",
      "Features HSV\n",
      "\n",
      "Kernel rbf, C=1e-05\n",
      "Score sobre conjunto de validación: 0.0952\n",
      "Kernel rbf, C=1e-04\n",
      "Score sobre conjunto de validación: 0.0952\n",
      "Kernel rbf, C=1e-03\n",
      "Score sobre conjunto de validación: 0.0952\n",
      "Kernel rbf, C=1e-02\n",
      "Score sobre conjunto de validación: 0.184\n",
      "Kernel rbf, C=1e-01\n",
      "Score sobre conjunto de validación: 0.2281\n",
      "Kernel rbf, C=1e+00\n",
      "Score sobre conjunto de validación: 0.2425\n",
      "Kernel rbf, C=1e+01\n",
      "Score sobre conjunto de validación: 0.2501\n",
      "Kernel rbf, C=1e+02\n",
      "Score sobre conjunto de validación: 0.2568\n",
      "Kernel rbf, C=1e+03\n",
      "Score sobre conjunto de validación: 0.2616\n",
      "\n",
      "Kernel poly, C=1e-05\n",
      "Score sobre conjunto de validación: 0.0952\n",
      "Kernel poly, C=1e-04\n",
      "Score sobre conjunto de validación: 0.0952\n",
      "Kernel poly, C=1e-03\n",
      "Score sobre conjunto de validación: 0.0952\n",
      "Kernel poly, C=1e-02\n",
      "Score sobre conjunto de validación: 0.0952\n",
      "Kernel poly, C=1e-01\n",
      "Score sobre conjunto de validación: 0.0952\n",
      "Kernel poly, C=1e+00\n",
      "Score sobre conjunto de validación: 0.0952\n",
      "Kernel poly, C=1e+01\n",
      "Score sobre conjunto de validación: 0.1727\n",
      "Kernel poly, C=1e+02\n",
      "Score sobre conjunto de validación: 0.2248\n",
      "Kernel poly, C=1e+03\n",
      "Score sobre conjunto de validación: 0.2501\n",
      "\n",
      "Kernel sigmoid, C=1e-05\n",
      "Score sobre conjunto de validación: 0.0952\n",
      "Kernel sigmoid, C=1e-04\n",
      "Score sobre conjunto de validación: 0.0952\n",
      "Kernel sigmoid, C=1e-03\n",
      "Score sobre conjunto de validación: 0.0952\n",
      "Kernel sigmoid, C=1e-02\n",
      "Score sobre conjunto de validación: 0.0952\n",
      "Kernel sigmoid, C=1e-01\n",
      "Score sobre conjunto de validación: 0.0952\n",
      "Kernel sigmoid, C=1e+00\n",
      "Score sobre conjunto de validación: 0.0952\n",
      "Kernel sigmoid, C=1e+01\n",
      "Score sobre conjunto de validación: 0.0952\n",
      "Kernel sigmoid, C=1e+02\n",
      "Score sobre conjunto de validación: 0.0952\n",
      "Kernel sigmoid, C=1e+03\n",
      "Score sobre conjunto de validación: 0.0952\n",
      "\n",
      "(40000, 32, 32, 3)\n",
      "(10000, 32, 32, 3)\n",
      "Features HOG\n",
      "Kernel rbf, C=1e-05\n",
      "Score sobre conjunto de validación: 0.0952\n",
      "Kernel rbf, C=1e-04\n",
      "Score sobre conjunto de validación: 0.0952\n",
      "Kernel rbf, C=1e-03\n",
      "Score sobre conjunto de validación: 0.0952\n",
      "Kernel rbf, C=1e-02\n",
      "Score sobre conjunto de validación: 0.1757\n",
      "Kernel rbf, C=1e-01\n",
      "Score sobre conjunto de validación: 0.3482\n",
      "Kernel rbf, C=1e+00\n",
      "Score sobre conjunto de validación: 0.5308\n",
      "Kernel rbf, C=1e+01\n",
      "Score sobre conjunto de validación: 0.5423\n",
      "Kernel rbf, C=1e+02\n",
      "Score sobre conjunto de validación: 0.5423\n",
      "Kernel rbf, C=1e+03\n",
      "Score sobre conjunto de validación: 0.5423\n",
      "\n",
      "Kernel poly, C=1e-05\n",
      "Score sobre conjunto de validación: 0.1366\n",
      "Kernel poly, C=1e-04\n",
      "Score sobre conjunto de validación: 0.2829\n",
      "Kernel poly, C=1e-03\n",
      "Score sobre conjunto de validación: 0.4309\n",
      "Kernel poly, C=1e-02\n",
      "Score sobre conjunto de validación: 0.5229\n",
      "Kernel poly, C=1e-01\n",
      "Score sobre conjunto de validación: 0.5476\n",
      "Kernel poly, C=1e+00\n",
      "Score sobre conjunto de validación: 0.5425\n",
      "Kernel poly, C=1e+01\n",
      "Score sobre conjunto de validación: 0.532\n",
      "Kernel poly, C=1e+02\n",
      "Score sobre conjunto de validación: 0.5216\n",
      "Kernel poly, C=1e+03\n",
      "Score sobre conjunto de validación: 0.5116\n",
      "\n",
      "Kernel sigmoid, C=1e+00\n",
      "Score sobre conjunto de validación: 0.0952\n",
      "Kernel sigmoid, C=1e-01\n",
      "Score sobre conjunto de validación: 0.0952\n",
      "Kernel sigmoid, C=1e-02\n",
      "Score sobre conjunto de validación: 0.0952\n",
      "Kernel sigmoid, C=1e-03\n",
      "Score sobre conjunto de validación: 0.0952\n",
      "Kernel sigmoid, C=1e-04\n",
      "Score sobre conjunto de validación: 0.0952\n",
      "Kernel sigmoid, C=1e-05\n",
      "Score sobre conjunto de validación: 0.0952\n",
      "Kernel sigmoid, C=1e+01\n",
      "Score sobre conjunto de validación: 0.0952\n",
      "Kernel sigmoid, C=1e+02\n",
      "Score sobre conjunto de validación: 0.0952\n",
      "Kernel sigmoid, C=1e+03\n",
      "Score sobre conjunto de validación: 0.0952\n",
      "\n"
     ]
    }
   ],
   "source": [
    "f = open(\"pregunta3_e.txt\", \"r\")\n",
    "print f.read()"
   ]
  },
  {
   "cell_type": "code",
   "execution_count": null,
   "metadata": {
    "collapsed": true
   },
   "outputs": [],
   "source": [
    "# Falta graficar esto para que se entienda y concluir"
   ]
  },
  {
   "cell_type": "markdown",
   "metadata": {},
   "source": [
    "## f) Árbol de clasificación para CIFAR10"
   ]
  },
  {
   "cell_type": "code",
   "execution_count": 12,
   "metadata": {
    "collapsed": false
   },
   "outputs": [
    {
     "name": "stdout",
     "output_type": "stream",
     "text": [
      "(40000, 32, 32, 3)\n",
      "(10000, 32, 32, 3)\n",
      "(40000, 32, 32, 3)\n",
      "(10000, 32, 32, 3)\n",
      "(40000, 32, 32, 3)\n",
      "(10000, 32, 32, 3)\n"
     ]
    }
   ],
   "source": [
    "from sklearn.tree import DecisionTreeClassifier\n",
    "\n",
    "Xtr, Ytr, Xval, Yval, Xte, Yte = load_CIFAR10('.')\n",
    "\n",
    "features_Xtr_hsv = extract_features(Xtr,[color_histogram_hsv])\n",
    "features_Xval_hsv = extract_features(Xval,[color_histogram_hsv])\n",
    "features_Xtr_hog = extract_features(Xtr,[hog_features])\n",
    "features_Xval_hog = extract_features(Xval,[hog_features])\n",
    "features_Xtr_all = extract_features(Xtr,[color_histogram_hsv, hog_features])\n",
    "features_Xval_all = extract_features(Xval,[color_histogram_hsv, hog_features])"
   ]
  },
  {
   "cell_type": "code",
   "execution_count": 13,
   "metadata": {
    "collapsed": true
   },
   "outputs": [],
   "source": [
    "depths = np.arange(2, 22, 2)"
   ]
  },
  {
   "cell_type": "code",
   "execution_count": 19,
   "metadata": {
    "collapsed": false
   },
   "outputs": [
    {
     "name": "stdout",
     "output_type": "stream",
     "text": [
      "Features raw pixel\n",
      "Arbol de profundidad 2. Score en conjunto de evaluacion: 0.1943\n",
      "Arbol de profundidad 4. Score en conjunto de evaluacion: 0.2223\n",
      "Arbol de profundidad 6. Score en conjunto de evaluacion: 0.2392\n",
      "Arbol de profundidad 8. Score en conjunto de evaluacion: 0.2489\n",
      "Arbol de profundidad 10. Score en conjunto de evaluacion: 0.2482\n",
      "Arbol de profundidad 12. Score en conjunto de evaluacion: 0.2451\n",
      "Arbol de profundidad 14. Score en conjunto de evaluacion: 0.2289\n",
      "Arbol de profundidad 16. Score en conjunto de evaluacion: 0.2233\n",
      "Arbol de profundidad 18. Score en conjunto de evaluacion: 0.2157\n",
      "Arbol de profundidad 20. Score en conjunto de evaluacion: 0.2081\n"
     ]
    }
   ],
   "source": [
    "print \"Features raw pixel\"\n",
    "Xtr, Ytr, Xval, Yval, Xte, Yte = load_CIFAR10('.')\n",
    "Xtr_scaled, Xval_scaled, Xte_scaled = scaler_function(Xtr, Xval, Xte, other=False)\n",
    "for d in depths:\n",
    "    clf = DecisionTreeClassifier(max_depth=d)\n",
    "    clf.fit(features_Xtr_hsv, Ytr)\n",
    "    print \"Arbol de profundidad %s\"%d+\". Score en conjunto de evaluacion: %s\"%clf.score(features_Xval_hsv, Yval)"
   ]
  },
  {
   "cell_type": "code",
   "execution_count": 14,
   "metadata": {
    "collapsed": false
   },
   "outputs": [
    {
     "name": "stdout",
     "output_type": "stream",
     "text": [
      "Features HSV\n",
      "Arbol de profundidad 2. Score en conjunto de evaluacion: 0.1943\n",
      "Arbol de profundidad 4. Score en conjunto de evaluacion: 0.2223\n",
      "Arbol de profundidad 6. Score en conjunto de evaluacion: 0.2392\n",
      "Arbol de profundidad 8. Score en conjunto de evaluacion: 0.2487\n",
      "Arbol de profundidad 10. Score en conjunto de evaluacion: 0.2481\n",
      "Arbol de profundidad 12. Score en conjunto de evaluacion: 0.2452\n",
      "Arbol de profundidad 14. Score en conjunto de evaluacion: 0.2282\n",
      "Arbol de profundidad 16. Score en conjunto de evaluacion: 0.2237\n",
      "Arbol de profundidad 18. Score en conjunto de evaluacion: 0.2138\n",
      "Arbol de profundidad 20. Score en conjunto de evaluacion: 0.2058\n"
     ]
    }
   ],
   "source": [
    "print \"Features HSV\"\n",
    "for d in depths:\n",
    "    clf = DecisionTreeClassifier(max_depth=d)\n",
    "    clf.fit(features_Xtr_hsv, Ytr)\n",
    "    print \"Arbol de profundidad %s\"%d+\". Score en conjunto de evaluacion: %s\"%clf.score(features_Xval_hsv, Yval)"
   ]
  },
  {
   "cell_type": "code",
   "execution_count": 15,
   "metadata": {
    "collapsed": false
   },
   "outputs": [
    {
     "name": "stdout",
     "output_type": "stream",
     "text": [
      "Features HOG\n",
      "Arbol de profundidad 2. Score en conjunto de evaluacion: 0.1717\n",
      "Arbol de profundidad 4. Score en conjunto de evaluacion: 0.2323\n",
      "Arbol de profundidad 6. Score en conjunto de evaluacion: 0.2662\n",
      "Arbol de profundidad 8. Score en conjunto de evaluacion: 0.2789\n",
      "Arbol de profundidad 10. Score en conjunto de evaluacion: 0.2832\n",
      "Arbol de profundidad 12. Score en conjunto de evaluacion: 0.2699\n",
      "Arbol de profundidad 14. Score en conjunto de evaluacion: 0.2664\n",
      "Arbol de profundidad 16. Score en conjunto de evaluacion: 0.2615\n",
      "Arbol de profundidad 18. Score en conjunto de evaluacion: 0.2524\n",
      "Arbol de profundidad 20. Score en conjunto de evaluacion: 0.249\n"
     ]
    }
   ],
   "source": [
    "print \"Features HOG\"\n",
    "for d in depths:\n",
    "    clf = DecisionTreeClassifier(max_depth=d)\n",
    "    clf.fit(features_Xtr_hog, Ytr)\n",
    "    print \"Arbol de profundidad %s\"%d+\". Score en conjunto de evaluacion: %s\"%clf.score(features_Xval_hog, Yval)"
   ]
  },
  {
   "cell_type": "code",
   "execution_count": 16,
   "metadata": {
    "collapsed": false
   },
   "outputs": [
    {
     "name": "stdout",
     "output_type": "stream",
     "text": [
      "Features ALL\n",
      "Arbol de profundidad 2. Score en conjunto de evaluacion: 0.1943\n",
      "Arbol de profundidad 4. Score en conjunto de evaluacion: 0.2366\n",
      "Arbol de profundidad 6. Score en conjunto de evaluacion: 0.2888\n",
      "Arbol de profundidad 8. Score en conjunto de evaluacion: 0.3108\n",
      "Arbol de profundidad 10. Score en conjunto de evaluacion: 0.3179\n",
      "Arbol de profundidad 12. Score en conjunto de evaluacion: 0.3074\n",
      "Arbol de profundidad 14. Score en conjunto de evaluacion: 0.2953\n",
      "Arbol de profundidad 16. Score en conjunto de evaluacion: 0.2896\n",
      "Arbol de profundidad 18. Score en conjunto de evaluacion: 0.2826\n",
      "Arbol de profundidad 20. Score en conjunto de evaluacion: 0.2852\n"
     ]
    }
   ],
   "source": [
    "print \"Features ALL\"\n",
    "for d in depths:\n",
    "    clf = DecisionTreeClassifier(max_depth=d)\n",
    "    clf.fit(features_Xtr_all, Ytr)\n",
    "    print \"Arbol de profundidad %s\"%d+\". Score en conjunto de evaluacion: %s\"%clf.score(features_Xval_all, Yval)"
   ]
  },
  {
   "cell_type": "code",
   "execution_count": null,
   "metadata": {
    "collapsed": true
   },
   "outputs": [],
   "source": []
  }
 ],
 "metadata": {
  "kernelspec": {
   "display_name": "Python 2",
   "language": "python",
   "name": "python2"
  },
  "language_info": {
   "codemirror_mode": {
    "name": "ipython",
    "version": 2
   },
   "file_extension": ".py",
   "mimetype": "text/x-python",
   "name": "python",
   "nbconvert_exporter": "python",
   "pygments_lexer": "ipython2",
   "version": "2.7.11"
  }
 },
 "nbformat": 4,
 "nbformat_minor": 0
}
