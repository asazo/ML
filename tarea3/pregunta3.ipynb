{
 "cells": [
  {
   "cell_type": "markdown",
   "metadata": {},
   "source": [
    "# Pregunta 3"
   ]
  },
  {
   "cell_type": "code",
   "execution_count": 1,
   "metadata": {
    "collapsed": false
   },
   "outputs": [],
   "source": [
    "import cPickle as pickle\n",
    "import numpy as np\n",
    "import os\n",
    "\n",
    "def unpickle(file):\n",
    "    fo = open(file, 'rb')\n",
    "    dict = cPickle.load(fo)\n",
    "    fo.close()\n",
    "    return dict\n",
    "\n",
    "label_names = ['airplane', 'automobile', 'bird', 'cat', 'deer', 'dog', 'frog', 'horse', 'ship', 'truck']"
   ]
  },
  {
   "cell_type": "code",
   "execution_count": 2,
   "metadata": {
    "collapsed": false
   },
   "outputs": [],
   "source": [
    "def load_CIFAR_one(filename):\n",
    "    with open(filename, 'rb') as f:\n",
    "        datadict = pickle.load(f)\n",
    "        X = datadict['data']\n",
    "        Y = datadict['labels']\n",
    "        return X, np.array(Y)\n",
    "    \n",
    "def load_CIFAR10(PATH, n_val=10000):\n",
    "    if n_val > 10000:\n",
    "        n_val = 10000\n",
    "    xs = []\n",
    "    ys = []\n",
    "    for b in range(1,6):\n",
    "        f = os.path.join(PATH, 'data_batch_%d' % (b, ))\n",
    "        X, Y = load_CIFAR_one(f)\n",
    "        xs.append(X)\n",
    "        ys.append(Y)\n",
    "    Xtr = np.concatenate(xs)\n",
    "    Ytr = np.concatenate(ys)\n",
    "    Xval = Xtr[-n_val:Xtr.shape[0]]\n",
    "    Yval = Ytr[-n_val:Ytr.shape[0]]\n",
    "    Xtr = Xtr[:-n_val]\n",
    "    Ytr = Ytr[:-n_val]\n",
    "    del X, Y\n",
    "    Xte, Yte = load_CIFAR_one(os.path.join(PATH, 'test_batch'))\n",
    "    return Xtr, Ytr, Xval, Yval, Xte, Yte"
   ]
  },
  {
   "cell_type": "code",
   "execution_count": 23,
   "metadata": {
    "collapsed": false
   },
   "outputs": [],
   "source": [
    "Xtr, Ytr, Xval, Yval, Xte, Yte = load_CIFAR10('.')"
   ]
  },
  {
   "cell_type": "code",
   "execution_count": 26,
   "metadata": {
    "collapsed": false
   },
   "outputs": [],
   "source": [
    "from keras.utils.np_utils import to_categorical\n",
    "from sklearn.preprocessing import StandardScaler\n",
    "\n",
    "def scaler_function(Xtr,Xval,Xt,other=True, scale=True):\n",
    "    if other:\n",
    "        Xtr_scaled = Xtr / 255.\n",
    "        Xval_scaled = Xval / 255.\n",
    "        Xt_scaled = Xt / 255.\n",
    "        return Xtr_scaled, Xval_scaled, Xt_scaled\n",
    "    scaler = StandardScaler(with_std=scale).fit(Xtr)\n",
    "    Xtr_scaled = scaler.transform(Xtr)\n",
    "    Xval_scaled = scaler.transform(Xval)\n",
    "    Xt_scaled = scaler.transform(Xt)\n",
    "    return Xtr_scaled, Xval_scaled, Xt_scaled"
   ]
  },
  {
   "cell_type": "code",
   "execution_count": 5,
   "metadata": {
    "collapsed": false
   },
   "outputs": [
    {
     "data": {
      "text/plain": [
       "'%matplotlib inline\\nimport matplotlib.pyplot as plt\\nplt.figure(figsize=(1,1))\\nsample = Xtr[12].reshape(3,32,32).T\\nplt.imshow(sample, interpolation=\"nearest\")\\nplt.show()\\n\\nXtr_scaled, Xt_scaled = scaler_function(Xtr, Xte, other=True)\\nplt.figure(figsize=(1,1))\\nsample = Xtr_scaled[12].reshape(3,32,32).T\\nplt.imshow(sample, interpolation=\"nearest\")\\nplt.show()\\n\\nXtr_scaled, Xt_scaled = scaler_function(Xtr.astype(np.float64), Xte.astype(np.float64), other=False, scale=False)\\nplt.figure(figsize=(1,1))\\nsample = Xtr_scaled[12].reshape(3,32,32).T\\nplt.imshow(sample, interpolation=\"nearest\")\\nplt.show()\\n\\nXtr_scaled, Xt_scaled = scaler_function(Xtr.astype(np.float64), Xte.astype(np.float64), other=False, scale=True)\\nplt.figure(figsize=(1,1))\\nsample = Xtr_scaled[12].reshape(3,32,32).T\\nplt.imshow(sample, interpolation=\"nearest\")\\nplt.show()'"
      ]
     },
     "execution_count": 5,
     "metadata": {},
     "output_type": "execute_result"
    }
   ],
   "source": [
    "\"\"\"%matplotlib inline\n",
    "import matplotlib.pyplot as plt\n",
    "plt.figure(figsize=(1,1))\n",
    "sample = Xtr[12].reshape(3,32,32).T\n",
    "plt.imshow(sample, interpolation=\"nearest\")\n",
    "plt.show()\n",
    "\n",
    "Xtr_scaled, Xt_scaled = scaler_function(Xtr, Xte, other=True)\n",
    "plt.figure(figsize=(1,1))\n",
    "sample = Xtr_scaled[12].reshape(3,32,32).T\n",
    "plt.imshow(sample, interpolation=\"nearest\")\n",
    "plt.show()\n",
    "\n",
    "Xtr_scaled, Xt_scaled = scaler_function(Xtr.astype(np.float64), Xte.astype(np.float64), other=False, scale=False)\n",
    "plt.figure(figsize=(1,1))\n",
    "sample = Xtr_scaled[12].reshape(3,32,32).T\n",
    "plt.imshow(sample, interpolation=\"nearest\")\n",
    "plt.show()\n",
    "\n",
    "Xtr_scaled, Xt_scaled = scaler_function(Xtr.astype(np.float64), Xte.astype(np.float64), other=False, scale=True)\n",
    "plt.figure(figsize=(1,1))\n",
    "sample = Xtr_scaled[12].reshape(3,32,32).T\n",
    "plt.imshow(sample, interpolation=\"nearest\")\n",
    "plt.show()\"\"\""
   ]
  },
  {
   "cell_type": "code",
   "execution_count": 24,
   "metadata": {
    "collapsed": false
   },
   "outputs": [],
   "source": [
    "from keras.utils.np_utils import to_categorical\n",
    "from sklearn.preprocessing import StandardScaler\n",
    "from keras.models import Sequential\n",
    "from keras.layers import Dense, Activation, Dropout\n",
    "from keras.optimizers import SGD"
   ]
  },
  {
   "cell_type": "code",
   "execution_count": 28,
   "metadata": {
    "collapsed": false
   },
   "outputs": [
    {
     "name": "stderr",
     "output_type": "stream",
     "text": [
      "/usr/lib64/python2.7/site-packages/sklearn/utils/validation.py:420: DataConversionWarning: Data with input dtype uint8 was converted to float64 by StandardScaler.\n",
      "  warnings.warn(msg, DataConversionWarning)\n"
     ]
    }
   ],
   "source": [
    "Xtr, Xval, Xte = scaler_function(Xtr, Xval, Xte, other=False)\n",
    "Ytr_cat = to_categorical(Ytr, 10)\n",
    "Yval_cat = to_categorical(Yval, 10)\n",
    "Yte_cat = to_categorical(Yte, 10)"
   ]
  },
  {
   "cell_type": "code",
   "execution_count": 31,
   "metadata": {
    "collapsed": false
   },
   "outputs": [
    {
     "name": "stdout",
     "output_type": "stream",
     "text": [
      "Train on 40000 samples, validate on 10000 samples\n",
      "Epoch 1/50\n",
      "40000/40000 [==============================] - 5s - loss: 0.2735 - acc: 0.9028 - val_loss: 2.2219 - val_acc: 0.8475\n",
      "Epoch 2/50\n",
      "40000/40000 [==============================] - 5s - loss: 0.2486 - acc: 0.9074 - val_loss: 2.1756 - val_acc: 0.8516\n",
      "Epoch 3/50\n",
      "40000/40000 [==============================] - 5s - loss: 0.2386 - acc: 0.9103 - val_loss: 2.0899 - val_acc: 0.8582\n",
      "Epoch 4/50\n",
      "40000/40000 [==============================] - 5s - loss: 0.2321 - acc: 0.9124 - val_loss: 1.9405 - val_acc: 0.8666\n",
      "Epoch 5/50\n",
      "40000/40000 [==============================] - 5s - loss: 0.2272 - acc: 0.9141 - val_loss: 2.0570 - val_acc: 0.8614\n",
      "Epoch 6/50\n",
      "40000/40000 [==============================] - 5s - loss: 0.2223 - acc: 0.9156 - val_loss: 1.8752 - val_acc: 0.8699\n",
      "Epoch 7/50\n",
      "40000/40000 [==============================] - 5s - loss: 0.2182 - acc: 0.9171 - val_loss: 2.0068 - val_acc: 0.8642\n",
      "Epoch 8/50\n",
      "40000/40000 [==============================] - 5s - loss: 0.2149 - acc: 0.9181 - val_loss: 1.9766 - val_acc: 0.8656\n",
      "Epoch 9/50\n",
      "40000/40000 [==============================] - 5s - loss: 0.2114 - acc: 0.9192 - val_loss: 1.9709 - val_acc: 0.8652\n",
      "Epoch 10/50\n",
      "40000/40000 [==============================] - 5s - loss: 0.2086 - acc: 0.9203 - val_loss: 1.9788 - val_acc: 0.8668\n",
      "Epoch 11/50\n",
      "40000/40000 [==============================] - 5s - loss: 0.2057 - acc: 0.9212 - val_loss: 1.9581 - val_acc: 0.8676\n",
      "Epoch 12/50\n",
      "40000/40000 [==============================] - 5s - loss: 0.2035 - acc: 0.9219 - val_loss: 1.9756 - val_acc: 0.8671\n",
      "Epoch 13/50\n",
      "40000/40000 [==============================] - 5s - loss: 0.2007 - acc: 0.9232 - val_loss: 1.8128 - val_acc: 0.8763\n",
      "Epoch 14/50\n",
      "40000/40000 [==============================] - 5s - loss: 0.1990 - acc: 0.9234 - val_loss: 1.9514 - val_acc: 0.8685\n",
      "Epoch 15/50\n",
      "40000/40000 [==============================] - 5s - loss: 0.1969 - acc: 0.9244 - val_loss: 1.9971 - val_acc: 0.8670\n",
      "Epoch 16/50\n",
      "40000/40000 [==============================] - 5s - loss: 0.1945 - acc: 0.9249 - val_loss: 1.9285 - val_acc: 0.8707\n",
      "Epoch 17/50\n",
      "40000/40000 [==============================] - 5s - loss: 0.1929 - acc: 0.9259 - val_loss: 2.0072 - val_acc: 0.8663\n",
      "Epoch 18/50\n",
      "40000/40000 [==============================] - 5s - loss: 0.1908 - acc: 0.9263 - val_loss: 2.1633 - val_acc: 0.8581\n",
      "Epoch 19/50\n",
      "40000/40000 [==============================] - 5s - loss: 0.1892 - acc: 0.9270 - val_loss: 1.8572 - val_acc: 0.8748\n",
      "Epoch 20/50\n",
      "40000/40000 [==============================] - 5s - loss: 0.1872 - acc: 0.9282 - val_loss: 1.8305 - val_acc: 0.8763\n",
      "Epoch 21/50\n",
      "40000/40000 [==============================] - 4s - loss: 0.1856 - acc: 0.9287 - val_loss: 2.0619 - val_acc: 0.8631\n",
      "Epoch 22/50\n",
      "40000/40000 [==============================] - 4s - loss: 0.1836 - acc: 0.9295 - val_loss: 1.8853 - val_acc: 0.8728\n",
      "Epoch 23/50\n",
      "40000/40000 [==============================] - 4s - loss: 0.1826 - acc: 0.9299 - val_loss: 1.8483 - val_acc: 0.8765\n",
      "Epoch 24/50\n",
      "40000/40000 [==============================] - 5s - loss: 0.1806 - acc: 0.9305 - val_loss: 1.9105 - val_acc: 0.8726\n",
      "Epoch 25/50\n",
      "40000/40000 [==============================] - 5s - loss: 0.1794 - acc: 0.9309 - val_loss: 2.0370 - val_acc: 0.8658\n",
      "Epoch 26/50\n",
      "40000/40000 [==============================] - 5s - loss: 0.1776 - acc: 0.9317 - val_loss: 1.9199 - val_acc: 0.8720\n",
      "Epoch 27/50\n",
      "40000/40000 [==============================] - 5s - loss: 0.1764 - acc: 0.9325 - val_loss: 1.8853 - val_acc: 0.8745\n",
      "Epoch 28/50\n",
      "40000/40000 [==============================] - 6s - loss: 0.1748 - acc: 0.9325 - val_loss: 1.9455 - val_acc: 0.8704\n",
      "Epoch 29/50\n",
      "40000/40000 [==============================] - 5s - loss: 0.1736 - acc: 0.9330 - val_loss: 1.9653 - val_acc: 0.8697\n",
      "Epoch 30/50\n",
      "40000/40000 [==============================] - 5s - loss: 0.1724 - acc: 0.9336 - val_loss: 1.9561 - val_acc: 0.8701\n",
      "Epoch 31/50\n",
      "40000/40000 [==============================] - 6s - loss: 0.1716 - acc: 0.9339 - val_loss: 2.0480 - val_acc: 0.8654\n",
      "Epoch 32/50\n",
      "25248/40000 [=================>............] - ETA: 2s - loss: 0.1669 - acc: 0.9359"
     ]
    },
    {
     "ename": "KeyboardInterrupt",
     "evalue": "",
     "output_type": "error",
     "traceback": [
      "\u001b[1;31m---------------------------------------------------------------------------\u001b[0m",
      "\u001b[1;31mKeyboardInterrupt\u001b[0m                         Traceback (most recent call last)",
      "\u001b[1;32m<ipython-input-31-aa725eda2f47>\u001b[0m in \u001b[0;36m<module>\u001b[1;34m()\u001b[0m\n\u001b[0;32m      4\u001b[0m \u001b[0mmodel\u001b[0m\u001b[1;33m.\u001b[0m\u001b[0madd\u001b[0m\u001b[1;33m(\u001b[0m\u001b[0mDense\u001b[0m\u001b[1;33m(\u001b[0m\u001b[1;36m10\u001b[0m\u001b[1;33m,\u001b[0m \u001b[0minit\u001b[0m\u001b[1;33m=\u001b[0m\u001b[1;34m'uniform'\u001b[0m\u001b[1;33m,\u001b[0m \u001b[0mactivation\u001b[0m\u001b[1;33m=\u001b[0m\u001b[1;34m'softmax'\u001b[0m\u001b[1;33m)\u001b[0m\u001b[1;33m)\u001b[0m\u001b[1;33m\u001b[0m\u001b[0m\n\u001b[0;32m      5\u001b[0m \u001b[0mmodel\u001b[0m\u001b[1;33m.\u001b[0m\u001b[0mcompile\u001b[0m\u001b[1;33m(\u001b[0m\u001b[0moptimizer\u001b[0m\u001b[1;33m=\u001b[0m\u001b[0mSGD\u001b[0m\u001b[1;33m(\u001b[0m\u001b[0mlr\u001b[0m\u001b[1;33m=\u001b[0m\u001b[1;36m0.05\u001b[0m\u001b[1;33m)\u001b[0m\u001b[1;33m,\u001b[0m \u001b[0mloss\u001b[0m\u001b[1;33m=\u001b[0m\u001b[1;34m'binary_crossentropy'\u001b[0m\u001b[1;33m,\u001b[0m \u001b[0mmetrics\u001b[0m\u001b[1;33m=\u001b[0m\u001b[1;33m[\u001b[0m\u001b[1;34m'accuracy'\u001b[0m\u001b[1;33m]\u001b[0m\u001b[1;33m)\u001b[0m\u001b[1;33m\u001b[0m\u001b[0m\n\u001b[1;32m----> 6\u001b[1;33m \u001b[0mmodel\u001b[0m\u001b[1;33m.\u001b[0m\u001b[0mfit\u001b[0m\u001b[1;33m(\u001b[0m\u001b[0mXtr\u001b[0m\u001b[1;33m,\u001b[0m \u001b[0mYtr_cat\u001b[0m\u001b[1;33m,\u001b[0m \u001b[0mnb_epoch\u001b[0m\u001b[1;33m=\u001b[0m\u001b[1;36m50\u001b[0m\u001b[1;33m,\u001b[0m \u001b[0mbatch_size\u001b[0m\u001b[1;33m=\u001b[0m\u001b[1;36m32\u001b[0m\u001b[1;33m,\u001b[0m \u001b[0mverbose\u001b[0m\u001b[1;33m=\u001b[0m\u001b[1;36m1\u001b[0m\u001b[1;33m,\u001b[0m \u001b[0mvalidation_data\u001b[0m\u001b[1;33m=\u001b[0m\u001b[1;33m(\u001b[0m\u001b[0mXval\u001b[0m\u001b[1;33m,\u001b[0m\u001b[0mYval_cat\u001b[0m\u001b[1;33m)\u001b[0m\u001b[1;33m)\u001b[0m\u001b[1;33m\u001b[0m\u001b[0m\n\u001b[0m\u001b[0;32m      7\u001b[0m \u001b[0mscores\u001b[0m \u001b[1;33m=\u001b[0m \u001b[0mmodel\u001b[0m\u001b[1;33m.\u001b[0m\u001b[0mevaluate\u001b[0m\u001b[1;33m(\u001b[0m\u001b[0mXval\u001b[0m\u001b[1;33m,\u001b[0m \u001b[0mYval_cat\u001b[0m\u001b[1;33m)\u001b[0m\u001b[1;33m\u001b[0m\u001b[0m\n\u001b[0;32m      8\u001b[0m \u001b[0mtest_acc\u001b[0m \u001b[1;33m=\u001b[0m \u001b[0mscores\u001b[0m\u001b[1;33m[\u001b[0m\u001b[1;36m1\u001b[0m\u001b[1;33m]\u001b[0m\u001b[1;33m\u001b[0m\u001b[0m\n",
      "\u001b[1;32m/usr/lib/python2.7/site-packages/keras/models.pyc\u001b[0m in \u001b[0;36mfit\u001b[1;34m(self, x, y, batch_size, nb_epoch, verbose, callbacks, validation_split, validation_data, shuffle, class_weight, sample_weight, **kwargs)\u001b[0m\n\u001b[0;32m    618\u001b[0m                               \u001b[0mshuffle\u001b[0m\u001b[1;33m=\u001b[0m\u001b[0mshuffle\u001b[0m\u001b[1;33m,\u001b[0m\u001b[1;33m\u001b[0m\u001b[0m\n\u001b[0;32m    619\u001b[0m                               \u001b[0mclass_weight\u001b[0m\u001b[1;33m=\u001b[0m\u001b[0mclass_weight\u001b[0m\u001b[1;33m,\u001b[0m\u001b[1;33m\u001b[0m\u001b[0m\n\u001b[1;32m--> 620\u001b[1;33m                               sample_weight=sample_weight)\n\u001b[0m\u001b[0;32m    621\u001b[0m \u001b[1;33m\u001b[0m\u001b[0m\n\u001b[0;32m    622\u001b[0m     def evaluate(self, x, y, batch_size=32, verbose=1,\n",
      "\u001b[1;32m/usr/lib/python2.7/site-packages/keras/engine/training.pyc\u001b[0m in \u001b[0;36mfit\u001b[1;34m(self, x, y, batch_size, nb_epoch, verbose, callbacks, validation_split, validation_data, shuffle, class_weight, sample_weight)\u001b[0m\n\u001b[0;32m   1102\u001b[0m                               \u001b[0mverbose\u001b[0m\u001b[1;33m=\u001b[0m\u001b[0mverbose\u001b[0m\u001b[1;33m,\u001b[0m \u001b[0mcallbacks\u001b[0m\u001b[1;33m=\u001b[0m\u001b[0mcallbacks\u001b[0m\u001b[1;33m,\u001b[0m\u001b[1;33m\u001b[0m\u001b[0m\n\u001b[0;32m   1103\u001b[0m                               \u001b[0mval_f\u001b[0m\u001b[1;33m=\u001b[0m\u001b[0mval_f\u001b[0m\u001b[1;33m,\u001b[0m \u001b[0mval_ins\u001b[0m\u001b[1;33m=\u001b[0m\u001b[0mval_ins\u001b[0m\u001b[1;33m,\u001b[0m \u001b[0mshuffle\u001b[0m\u001b[1;33m=\u001b[0m\u001b[0mshuffle\u001b[0m\u001b[1;33m,\u001b[0m\u001b[1;33m\u001b[0m\u001b[0m\n\u001b[1;32m-> 1104\u001b[1;33m                               callback_metrics=callback_metrics)\n\u001b[0m\u001b[0;32m   1105\u001b[0m \u001b[1;33m\u001b[0m\u001b[0m\n\u001b[0;32m   1106\u001b[0m     \u001b[1;32mdef\u001b[0m \u001b[0mevaluate\u001b[0m\u001b[1;33m(\u001b[0m\u001b[0mself\u001b[0m\u001b[1;33m,\u001b[0m \u001b[0mx\u001b[0m\u001b[1;33m,\u001b[0m \u001b[0my\u001b[0m\u001b[1;33m,\u001b[0m \u001b[0mbatch_size\u001b[0m\u001b[1;33m=\u001b[0m\u001b[1;36m32\u001b[0m\u001b[1;33m,\u001b[0m \u001b[0mverbose\u001b[0m\u001b[1;33m=\u001b[0m\u001b[1;36m1\u001b[0m\u001b[1;33m,\u001b[0m \u001b[0msample_weight\u001b[0m\u001b[1;33m=\u001b[0m\u001b[0mNone\u001b[0m\u001b[1;33m)\u001b[0m\u001b[1;33m:\u001b[0m\u001b[1;33m\u001b[0m\u001b[0m\n",
      "\u001b[1;32m/usr/lib/python2.7/site-packages/keras/engine/training.pyc\u001b[0m in \u001b[0;36m_fit_loop\u001b[1;34m(self, f, ins, out_labels, batch_size, nb_epoch, verbose, callbacks, val_f, val_ins, shuffle, callback_metrics)\u001b[0m\n\u001b[0;32m    820\u001b[0m                 \u001b[0mbatch_logs\u001b[0m\u001b[1;33m[\u001b[0m\u001b[1;34m'size'\u001b[0m\u001b[1;33m]\u001b[0m \u001b[1;33m=\u001b[0m \u001b[0mlen\u001b[0m\u001b[1;33m(\u001b[0m\u001b[0mbatch_ids\u001b[0m\u001b[1;33m)\u001b[0m\u001b[1;33m\u001b[0m\u001b[0m\n\u001b[0;32m    821\u001b[0m                 \u001b[0mcallbacks\u001b[0m\u001b[1;33m.\u001b[0m\u001b[0mon_batch_begin\u001b[0m\u001b[1;33m(\u001b[0m\u001b[0mbatch_index\u001b[0m\u001b[1;33m,\u001b[0m \u001b[0mbatch_logs\u001b[0m\u001b[1;33m)\u001b[0m\u001b[1;33m\u001b[0m\u001b[0m\n\u001b[1;32m--> 822\u001b[1;33m                 \u001b[0mouts\u001b[0m \u001b[1;33m=\u001b[0m \u001b[0mf\u001b[0m\u001b[1;33m(\u001b[0m\u001b[0mins_batch\u001b[0m\u001b[1;33m)\u001b[0m\u001b[1;33m\u001b[0m\u001b[0m\n\u001b[0m\u001b[0;32m    823\u001b[0m                 \u001b[1;32mif\u001b[0m \u001b[0mtype\u001b[0m\u001b[1;33m(\u001b[0m\u001b[0mouts\u001b[0m\u001b[1;33m)\u001b[0m \u001b[1;33m!=\u001b[0m \u001b[0mlist\u001b[0m\u001b[1;33m:\u001b[0m\u001b[1;33m\u001b[0m\u001b[0m\n\u001b[0;32m    824\u001b[0m                     \u001b[0mouts\u001b[0m \u001b[1;33m=\u001b[0m \u001b[1;33m[\u001b[0m\u001b[0mouts\u001b[0m\u001b[1;33m]\u001b[0m\u001b[1;33m\u001b[0m\u001b[0m\n",
      "\u001b[1;32m/usr/lib/python2.7/site-packages/keras/backend/theano_backend.pyc\u001b[0m in \u001b[0;36m__call__\u001b[1;34m(self, inputs)\u001b[0m\n\u001b[0;32m    670\u001b[0m     \u001b[1;32mdef\u001b[0m \u001b[0m__call__\u001b[0m\u001b[1;33m(\u001b[0m\u001b[0mself\u001b[0m\u001b[1;33m,\u001b[0m \u001b[0minputs\u001b[0m\u001b[1;33m)\u001b[0m\u001b[1;33m:\u001b[0m\u001b[1;33m\u001b[0m\u001b[0m\n\u001b[0;32m    671\u001b[0m         \u001b[1;32massert\u001b[0m \u001b[0mtype\u001b[0m\u001b[1;33m(\u001b[0m\u001b[0minputs\u001b[0m\u001b[1;33m)\u001b[0m \u001b[1;32min\u001b[0m \u001b[1;33m{\u001b[0m\u001b[0mlist\u001b[0m\u001b[1;33m,\u001b[0m \u001b[0mtuple\u001b[0m\u001b[1;33m}\u001b[0m\u001b[1;33m\u001b[0m\u001b[0m\n\u001b[1;32m--> 672\u001b[1;33m         \u001b[1;32mreturn\u001b[0m \u001b[0mself\u001b[0m\u001b[1;33m.\u001b[0m\u001b[0mfunction\u001b[0m\u001b[1;33m(\u001b[0m\u001b[1;33m*\u001b[0m\u001b[0minputs\u001b[0m\u001b[1;33m)\u001b[0m\u001b[1;33m\u001b[0m\u001b[0m\n\u001b[0m\u001b[0;32m    673\u001b[0m \u001b[1;33m\u001b[0m\u001b[0m\n\u001b[0;32m    674\u001b[0m \u001b[1;33m\u001b[0m\u001b[0m\n",
      "\u001b[1;32m/usr/lib/python2.7/site-packages/theano/compile/function_module.pyc\u001b[0m in \u001b[0;36m__call__\u001b[1;34m(self, *args, **kwargs)\u001b[0m\n\u001b[0;32m    857\u001b[0m         \u001b[0mt0_fn\u001b[0m \u001b[1;33m=\u001b[0m \u001b[0mtime\u001b[0m\u001b[1;33m.\u001b[0m\u001b[0mtime\u001b[0m\u001b[1;33m(\u001b[0m\u001b[1;33m)\u001b[0m\u001b[1;33m\u001b[0m\u001b[0m\n\u001b[0;32m    858\u001b[0m         \u001b[1;32mtry\u001b[0m\u001b[1;33m:\u001b[0m\u001b[1;33m\u001b[0m\u001b[0m\n\u001b[1;32m--> 859\u001b[1;33m             \u001b[0moutputs\u001b[0m \u001b[1;33m=\u001b[0m \u001b[0mself\u001b[0m\u001b[1;33m.\u001b[0m\u001b[0mfn\u001b[0m\u001b[1;33m(\u001b[0m\u001b[1;33m)\u001b[0m\u001b[1;33m\u001b[0m\u001b[0m\n\u001b[0m\u001b[0;32m    860\u001b[0m         \u001b[1;32mexcept\u001b[0m \u001b[0mException\u001b[0m\u001b[1;33m:\u001b[0m\u001b[1;33m\u001b[0m\u001b[0m\n\u001b[0;32m    861\u001b[0m             \u001b[1;32mif\u001b[0m \u001b[0mhasattr\u001b[0m\u001b[1;33m(\u001b[0m\u001b[0mself\u001b[0m\u001b[1;33m.\u001b[0m\u001b[0mfn\u001b[0m\u001b[1;33m,\u001b[0m \u001b[1;34m'position_of_error'\u001b[0m\u001b[1;33m)\u001b[0m\u001b[1;33m:\u001b[0m\u001b[1;33m\u001b[0m\u001b[0m\n",
      "\u001b[1;31mKeyboardInterrupt\u001b[0m: "
     ]
    }
   ],
   "source": [
    "model = Sequential()\n",
    "model.add(Dense(100, input_dim=Xtr.shape[1], init='uniform', activation='relu'))\n",
    "model.add(Dropout(0.1))\n",
    "model.add(Dense(10, init='uniform', activation='softmax'))\n",
    "model.compile(optimizer=SGD(lr=0.05), loss='binary_crossentropy', metrics=['accuracy'])\n",
    "model.fit(Xtr, Ytr_cat, nb_epoch=50, batch_size=32, verbose=1, validation_data=(Xval,Yval_cat))\n",
    "scores = model.evaluate(Xval, Yval_cat,)\n",
    "test_acc = scores[1]"
   ]
  },
  {
   "cell_type": "code",
   "execution_count": null,
   "metadata": {
    "collapsed": true
   },
   "outputs": [],
   "source": []
  }
 ],
 "metadata": {
  "kernelspec": {
   "display_name": "Python 2",
   "language": "python",
   "name": "python2"
  },
  "language_info": {
   "codemirror_mode": {
    "name": "ipython",
    "version": 2
   },
   "file_extension": ".py",
   "mimetype": "text/x-python",
   "name": "python",
   "nbconvert_exporter": "python",
   "pygments_lexer": "ipython2",
   "version": "2.7.11"
  }
 },
 "nbformat": 4,
 "nbformat_minor": 0
}
