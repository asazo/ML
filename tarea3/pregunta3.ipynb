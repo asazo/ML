{
 "cells": [
  {
   "cell_type": "markdown",
   "metadata": {},
   "source": [
    "# Pregunta 3\n",
    "\n",
    "Máquinas de aprendizaje para reconocimiento de imágenes en CIFAR10. Este es un dataset balanceado de 60000 imágenes de 32x32 pixeles, con 10 clases. En este caso se han dividido 50000 imágenes de entrenamiento y 10000 de prueba. Las clases a las cuales pertenece la imagen se muestran a continuación."
   ]
  },
  {
   "cell_type": "code",
   "execution_count": 1,
   "metadata": {
    "collapsed": false
   },
   "outputs": [
    {
     "name": "stdout",
     "output_type": "stream",
     "text": [
      "['airplane', 'automobile', 'bird', 'cat', 'deer', 'dog', 'frog', 'horse', 'ship', 'truck']\n"
     ]
    }
   ],
   "source": [
    "label_names = ['airplane', 'automobile', 'bird', 'cat', 'deer', 'dog', 'frog', 'horse', 'ship', 'truck']\n",
    "print label_names"
   ]
  },
  {
   "cell_type": "markdown",
   "metadata": {},
   "source": [
    "## a) Cargar datos de entrenamiento, prueba y validación.\n",
    "\n",
    "Se eligen como máximo 10000 imágenes del conjunto de entrenamiento para generar el conjunto de validación."
   ]
  },
  {
   "cell_type": "code",
   "execution_count": 2,
   "metadata": {
    "collapsed": false
   },
   "outputs": [],
   "source": [
    "import cPickle as pickle\n",
    "import numpy as np\n",
    "import os\n",
    "\n",
    "def unpickle(file):\n",
    "    fo = open(file, 'rb')\n",
    "    dict = cPickle.load(fo)\n",
    "    fo.close()\n",
    "    return dict\n",
    "\n",
    "def load_CIFAR_one(filename):\n",
    "    with open(filename, 'rb') as f:\n",
    "        datadict = pickle.load(f)\n",
    "        X = datadict['data']\n",
    "        Y = datadict['labels']\n",
    "        return X, np.array(Y)\n",
    "    \n",
    "def load_CIFAR10(PATH, n_val=10000):\n",
    "    if n_val > 10000:\n",
    "        n_val = 10000\n",
    "    xs = []\n",
    "    ys = []\n",
    "    for b in range(1,6):\n",
    "        f = os.path.join(PATH, 'data_batch_%d' % (b, ))\n",
    "        X, Y = load_CIFAR_one(f)\n",
    "        xs.append(X)\n",
    "        ys.append(Y)\n",
    "    Xtr = np.concatenate(xs)\n",
    "    Ytr = np.concatenate(ys)\n",
    "    Xval = Xtr[-n_val:Xtr.shape[0]]\n",
    "    Yval = Ytr[-n_val:Ytr.shape[0]]\n",
    "    Xtr = Xtr[:-n_val]\n",
    "    Ytr = Ytr[:-n_val]\n",
    "    del X, Y\n",
    "    Xte, Yte = load_CIFAR_one(os.path.join(PATH, 'test_batch'))\n",
    "    return Xtr, Ytr, Xval, Yval, Xte, Yte"
   ]
  },
  {
   "cell_type": "code",
   "execution_count": 3,
   "metadata": {
    "collapsed": false
   },
   "outputs": [],
   "source": [
    "Xtr, Ytr, Xval, Yval, Xte, Yte = load_CIFAR10('.')"
   ]
  },
  {
   "cell_type": "markdown",
   "metadata": {},
   "source": [
    "## b) Escalamiento de datos."
   ]
  },
  {
   "cell_type": "code",
   "execution_count": 7,
   "metadata": {
    "collapsed": false
   },
   "outputs": [],
   "source": [
    "from keras.utils.np_utils import to_categorical\n",
    "from sklearn.preprocessing import StandardScaler\n",
    "\n",
    "def scaler_function(Xtr,Xval,Xt,other=True, scale=True):\n",
    "    if other:\n",
    "        Xtr_scaled = Xtr / 255.\n",
    "        Xval_scaled = Xval / 255.\n",
    "        Xt_scaled = Xt / 255.\n",
    "        return Xtr_scaled, Xval_scaled, Xt_scaled\n",
    "    scaler = StandardScaler(with_std=scale).fit(Xtr)\n",
    "    Xtr_scaled = scaler.transform(Xtr)\n",
    "    Xval_scaled = scaler.transform(Xval)\n",
    "    Xt_scaled = scaler.transform(Xt)\n",
    "    return Xtr_scaled, Xval_scaled, Xt_scaled"
   ]
  },
  {
   "cell_type": "code",
   "execution_count": 5,
   "metadata": {
    "collapsed": false
   },
   "outputs": [
    {
     "data": {
      "image/png": "[encoded data removed]",
      "text/plain": [
       "<matplotlib.figure.Figure at 0x7fbbd90c1750>"
      ]
     },
     "metadata": {},
     "output_type": "display_data"
    },
    {
     "data": {
      "image/png": "[encoded data removed]",
      "text/plain": [
       "<matplotlib.figure.Figure at 0x7fbbd6c34d50>"
      ]
     },
     "metadata": {},
     "output_type": "display_data"
    },
    {
     "data": {
      "image/png": "[encoded data removed]",
      "text/plain": [
       "<matplotlib.figure.Figure at 0x7fbbd4b67ad0>"
      ]
     },
     "metadata": {},
     "output_type": "display_data"
    },
    {
     "data": {
      "image/png": "[encoded data removed]",
      "text/plain": [
       "<matplotlib.figure.Figure at 0x7fbbd4a59050>"
      ]
     },
     "metadata": {},
     "output_type": "display_data"
    }
   ],
   "source": [
    "%matplotlib inline\n",
    "import matplotlib.pyplot as plt\n",
    "\n",
    "# Imagen de ejemplo sin dataset escalado.\n",
    "plt.figure(figsize=(1,1))\n",
    "sample = Xtr[12].reshape(3,32,32).T\n",
    "plt.imshow(sample, interpolation=\"nearest\")\n",
    "plt.show()\n",
    "\n",
    "\n",
    "# Imagen de ejemplo normalizando pixeles por 255\n",
    "Xtr_scaled, Xval_scaled, Xt_scaled = scaler_function(Xtr.astype(np.float64), \n",
    "                                                     Xval.astype(np.float64), \n",
    "                                                     Xte.astype(np.float64),\n",
    "                                                     other=True)\n",
    "plt.figure(figsize=(1,1))\n",
    "sample = Xtr_scaled[12].reshape(3,32,32).T\n",
    "plt.imshow(sample, interpolation=\"nearest\")\n",
    "plt.show()\n",
    "del Xtr_scaled, Xval_scaled, Xt_scaled\n",
    "\n",
    "\n",
    "# Imagen de ejemplo solo centrando datos\n",
    "Xtr_scaled, Xval_scaled, Xt_scaled = scaler_function(Xtr.astype(np.float64), \n",
    "                                                     Xval.astype(np.float64), \n",
    "                                                     Xte.astype(np.float64), \n",
    "                                                     other=False, scale=False)\n",
    "plt.figure(figsize=(1,1))\n",
    "sample = Xtr_scaled[12].reshape(3,32,32).T\n",
    "plt.imshow(sample, interpolation=\"nearest\")\n",
    "plt.show()\n",
    "\n",
    "# Imagen de ejemplo normalizando datos\n",
    "Xtr_scaled, Xval_scaled, Xt_scaled = scaler_function(Xtr.astype(np.float64),\n",
    "                                                     Xval.astype(np.float64),\n",
    "                                                     Xte.astype(np.float64),\n",
    "                                                     other=False, scale=True)\n",
    "plt.figure(figsize=(1,1))\n",
    "sample = Xtr_scaled[12].reshape(3,32,32).T\n",
    "plt.imshow(sample, interpolation=\"nearest\")\n",
    "plt.show()"
   ]
  },
  {
   "cell_type": "markdown",
   "metadata": {},
   "source": [
    "## c) Redes neuronales con distintas arquitecturas para clasificación de CIFAR10\n",
    "\n",
    "Estas redes tienen, nominalmente, el propósito de bajar el error de pruebas bajo 0.5. Las métricas analizadas son loss (binary crossentropy) y el error de accuracy."
   ]
  },
  {
   "cell_type": "code",
   "execution_count": 5,
   "metadata": {
    "collapsed": false
   },
   "outputs": [
    {
     "name": "stderr",
     "output_type": "stream",
     "text": [
      "Using Theano backend.\n"
     ]
    }
   ],
   "source": [
    "from keras.utils.np_utils import to_categorical\n",
    "from sklearn.preprocessing import StandardScaler\n",
    "from keras.models import Sequential, load_model\n",
    "from keras.layers import Dense, Activation, Dropout\n",
    "from keras.optimizers import SGD"
   ]
  },
  {
   "cell_type": "code",
   "execution_count": 8,
   "metadata": {
    "collapsed": false
   },
   "outputs": [
    {
     "name": "stderr",
     "output_type": "stream",
     "text": [
      "/usr/lib64/python2.7/site-packages/sklearn/utils/validation.py:420: DataConversionWarning: Data with input dtype uint8 was converted to float64 by StandardScaler.\n",
      "  warnings.warn(msg, DataConversionWarning)\n",
      "/usr/lib64/python2.7/site-packages/sklearn/utils/validation.py:420: DataConversionWarning: Data with input dtype uint8 was converted to float64 by StandardScaler.\n",
      "  warnings.warn(msg, DataConversionWarning)\n",
      "/usr/lib64/python2.7/site-packages/sklearn/utils/validation.py:420: DataConversionWarning: Data with input dtype uint8 was converted to float64 by StandardScaler.\n",
      "  warnings.warn(msg, DataConversionWarning)\n",
      "/usr/lib64/python2.7/site-packages/sklearn/utils/validation.py:420: DataConversionWarning: Data with input dtype uint8 was converted to float64 by StandardScaler.\n",
      "  warnings.warn(msg, DataConversionWarning)\n"
     ]
    }
   ],
   "source": [
    "# Escalar datos\n",
    "Xtr, Xval, Xte = scaler_function(Xtr, Xval, Xte, other=False)\n",
    "Ytr_cat = to_categorical(Ytr, 10)\n",
    "Yval_cat = to_categorical(Yval, 10)\n",
    "Yte_cat = to_categorical(Yte, 10)"
   ]
  },
  {
   "cell_type": "markdown",
   "metadata": {},
   "source": [
    "### 1) Modelo entregado en enunciado"
   ]
  },
  {
   "cell_type": "code",
   "execution_count": 15,
   "metadata": {
    "collapsed": false
   },
   "outputs": [],
   "source": [
    "model = Sequential()\n",
    "model.add(Dense(100, input_dim=Xtr.shape[1], init='uniform', activation='relu'))\n",
    "model.add(Dropout(0.1))\n",
    "model.add(Dense(10, init='uniform', activation='softmax'))\n",
    "model.compile(optimizer=SGD(lr=0.05), loss='binary_crossentropy', metrics=['accuracy'])\n",
    "model.fit(Xtr, Ytr_cat, nb_epoch=50, batch_size=32, verbose=1, validation_data=(Xval,Yval_cat))\n",
    "model.save(\"arch_1.h5\")"
   ]
  },
  {
   "cell_type": "code",
   "execution_count": 9,
   "metadata": {
    "collapsed": false
   },
   "outputs": [
    {
     "name": "stdout",
     "output_type": "stream",
     "text": [
      " 9952/10000 [============================>.] - ETA: 0s\n",
      "Error de accuracy:  0.0836399992943\n",
      "\n",
      "Loss: 0.227352060699\n"
     ]
    }
   ],
   "source": [
    "model = load_model(\"arch_1.h5\")\n",
    "scores = model.evaluate(Xval, Yval_cat,)\n",
    "print \"\\nError de accuracy: \", 1 - scores[1]\n",
    "print \"\\nLoss:\", scores[0]\n",
    "del model"
   ]
  },
  {
   "cell_type": "markdown",
   "metadata": {},
   "source": [
    "### 2) Modelo deep 3 de capas ocultas y mix de activaciones"
   ]
  },
  {
   "cell_type": "code",
   "execution_count": 17,
   "metadata": {
    "collapsed": false
   },
   "outputs": [],
   "source": [
    "model = Sequential()\n",
    "model.add(Dense(200, input_dim=Xtr.shape[1], init='uniform', activation='relu'))\n",
    "model.add(Dropout(0.1))\n",
    "model.add(Dense(100, init='uniform', activation='sigmoid'))\n",
    "model.add(Dropout(0.1))\n",
    "model.add(Dense(50, init='uniform', activation='relu'))\n",
    "model.add(Dropout(0.1))\n",
    "model.add(Dense(10, init='uniform', activation='softmax'))\n",
    "model.compile(optimizer=SGD(lr=0.1), loss='binary_crossentropy', metrics=['accuracy'])\n",
    "model.fit(Xtr, Ytr_cat, nb_epoch=50, batch_size=32, verbose=1, validation_data=(Xval,Yval_cat))\n",
    "model.save(\"arch_2.h5\")"
   ]
  },
  {
   "cell_type": "code",
   "execution_count": 10,
   "metadata": {
    "collapsed": false
   },
   "outputs": [
    {
     "name": "stdout",
     "output_type": "stream",
     "text": [
      " 9952/10000 [============================>.] - ETA: 0s\n",
      "Error de accuracy:  0.0971399983406\n",
      "\n",
      "Loss: 0.443895714951\n"
     ]
    }
   ],
   "source": [
    "model = load_model(\"arch_2.h5\")\n",
    "scores = model.evaluate(Xval, Yval_cat,)\n",
    "print \"\\nError de accuracy: \", 1 - scores[1]\n",
    "print \"\\nLoss:\", scores[0]\n",
    "del model"
   ]
  },
  {
   "cell_type": "markdown",
   "metadata": {},
   "source": [
    "### 3) Modelo anterior con dropout aumentado"
   ]
  },
  {
   "cell_type": "code",
   "execution_count": null,
   "metadata": {
    "collapsed": true
   },
   "outputs": [],
   "source": [
    "model = Sequential()\n",
    "model.add(Dense(200, input_dim=Xtr.shape[1], init='uniform', activation='relu'))\n",
    "model.add(Dropout(0.4))\n",
    "model.add(Dense(100, init='uniform', activation='sigmoid'))\n",
    "model.add(Dropout(0.4))\n",
    "model.add(Dense(50, init='uniform', activation='relu'))\n",
    "model.add(Dropout(0.4))\n",
    "model.add(Dense(10, init='uniform', activation='softmax'))\n",
    "model.compile(optimizer=SGD(lr=0.1), loss='binary_crossentropy', metrics=['accuracy'])\n",
    "model.fit(Xtr, Ytr_cat, nb_epoch=50, batch_size=32, verbose=1, validation_data=(Xval,Yval_cat))\n",
    "model.save(\"arch_3.h5\")"
   ]
  },
  {
   "cell_type": "code",
   "execution_count": 12,
   "metadata": {
    "collapsed": false
   },
   "outputs": [
    {
     "name": "stdout",
     "output_type": "stream",
     "text": [
      " 9952/10000 [============================>.] - ETA: 0s\n",
      "Error de accuracy:  0.0799599991798\n",
      "\n",
      "Loss: 0.208769626927\n"
     ]
    }
   ],
   "source": [
    "model = load_model(\"arch_3.h5\")\n",
    "scores = model.evaluate(Xval, Yval_cat,)\n",
    "print \"\\nError de accuracy: \", 1 - scores[1]\n",
    "print \"\\nLoss:\", scores[0]\n",
    "del model"
   ]
  },
  {
   "cell_type": "markdown",
   "metadata": {},
   "source": [
    "El error de accuracy y la métrica loss sobre el conjunto de validación fue menor para el último modelo. Finalmente los resultados sobre el conjunto de pruebas se reportan a continuación:"
   ]
  },
  {
   "cell_type": "code",
   "execution_count": 13,
   "metadata": {
    "collapsed": false
   },
   "outputs": [
    {
     "name": "stdout",
     "output_type": "stream",
     "text": [
      " 9984/10000 [============================>.] - ETA: 0s\n",
      "Error de accuracy:  0.0808700006485\n",
      "\n",
      "Loss: 0.208661009645\n"
     ]
    }
   ],
   "source": [
    "model = load_model(\"arch_3.h5\")\n",
    "scores = model.evaluate(Xte, Yte_cat,)\n",
    "print \"\\nError de accuracy: \", 1 - scores[1]\n",
    "print \"\\nLoss:\", scores[0]\n",
    "del model"
   ]
  },
  {
   "cell_type": "markdown",
   "metadata": {},
   "source": [
    "## d) Mejorando resultados con features de alto nivel."
   ]
  },
  {
   "cell_type": "code",
   "execution_count": 11,
   "metadata": {
    "collapsed": true
   },
   "outputs": [],
   "source": [
    "from top_level_features import hog_features\n",
    "from top_level_features import color_histogram_hsv\n",
    "from top_level_features import extract_features"
   ]
  },
  {
   "cell_type": "code",
   "execution_count": null,
   "metadata": {
    "collapsed": false
   },
   "outputs": [],
   "source": [
    "from top_level_features import hog_features\n",
    "from top_level_features import color_histogram_hsv\n",
    "from top_level_features import extract_features\n",
    "\n",
    "Xtr, Ytr, Xval, Yval, Xte, Yte = load_CIFAR10('.')\n",
    "\n",
    "features_Xtr = extract_features(Xtr,[hog_features, color_histogram_hsv])\n",
    "features_Xval = extract_features(Xval,[hog_features, color_histogram_hsv])\n",
    "\n",
    "Ytr_cat = to_categorical(Ytr, 10)\n",
    "Yval_cat = to_categorical(Yval, 10)\n",
    "Yte_cat = to_categorical(Yte, 10)\n",
    "\n",
    "model = Sequential()\n",
    "model.add(Dense(200, input_dim=features_Xtr.shape[1], init='uniform', activation='relu'))\n",
    "model.add(Dropout(0.4))\n",
    "model.add(Dense(100, init='uniform', activation='sigmoid'))\n",
    "model.add(Dropout(0.4))\n",
    "model.add(Dense(50, init='uniform', activation='relu'))\n",
    "model.add(Dropout(0.4))\n",
    "model.add(Dense(10, init='uniform', activation='softmax'))\n",
    "model.compile(optimizer=SGD(lr=0.1), loss='binary_crossentropy', metrics=['accuracy'])\n",
    "model.fit(features_Xtr, Ytr_cat, nb_epoch=50, batch_size=32, verbose=1, validation_data=(features_Xval,Yval_cat))\n",
    "model.save(\"arch_3_ALL.h5\")\n",
    "\n",
    "features_Xtr = extract_features(Xtr,[hog_features])\n",
    "features_Xval = extract_features(Xval,[hog_features])\n",
    "\n",
    "model = Sequential()\n",
    "model.add(Dense(200, input_dim=features_Xtr.shape[1], init='uniform', activation='relu'))\n",
    "model.add(Dropout(0.4))\n",
    "model.add(Dense(100, init='uniform', activation='sigmoid'))\n",
    "model.add(Dropout(0.4))\n",
    "model.add(Dense(50, init='uniform', activation='relu'))\n",
    "model.add(Dropout(0.4))\n",
    "model.add(Dense(10, init='uniform', activation='softmax'))\n",
    "model.compile(optimizer=SGD(lr=0.1), loss='binary_crossentropy', metrics=['accuracy'])\n",
    "model.fit(features_Xtr, Ytr_cat, nb_epoch=50, batch_size=32, verbose=1, validation_data=(features_Xval,Yval_cat))\n",
    "model.save(\"arch_3_HOG.h5\")\n",
    "\n",
    "features_Xtr = extract_features(Xtr,[color_histogram_hsv])\n",
    "features_Xval = extract_features(Xval,[color_histogram_hsv])\n",
    "\n",
    "model = Sequential()\n",
    "model.add(Dense(200, input_dim=features_Xtr.shape[1], init='uniform', activation='relu'))\n",
    "model.add(Dropout(0.4))\n",
    "model.add(Dense(100, init='uniform', activation='sigmoid'))\n",
    "model.add(Dropout(0.4))\n",
    "model.add(Dense(50, init='uniform', activation='relu'))\n",
    "model.add(Dropout(0.4))\n",
    "model.add(Dense(10, init='uniform', activation='softmax'))\n",
    "model.compile(optimizer=SGD(lr=0.1), loss='binary_crossentropy', metrics=['accuracy'])\n",
    "model.fit(features_Xtr, Ytr_cat, nb_epoch=50, batch_size=32, verbose=1, validation_data=(features_Xval,Yval_cat))\n",
    "model.save(\"arch_3_HSV.h5\")"
   ]
  },
  {
   "cell_type": "code",
   "execution_count": 18,
   "metadata": {
    "collapsed": false
   },
   "outputs": [
    {
     "name": "stdout",
     "output_type": "stream",
     "text": [
      "(10000, 32, 32, 3)\n",
      "ALL:\n",
      " 9984/10000 [============================>.] - ETA: 0s\n",
      "Error de accuracy:  0.077370000267\n",
      "\n",
      "Loss: 0.202417908764\n",
      "(10000, 32, 32, 3)\n",
      "HOG:\n",
      " 9728/10000 [============================>.] - ETA: 0s\n",
      "Error de accuracy:  0.0794300010681\n",
      "\n",
      "Loss: 0.209651019859\n",
      "(10000, 32, 32, 3)\n",
      "HSV:\n",
      " 9696/10000 [============================>.] - ETA: 0s\n",
      "Error de accuracy:  0.100000023842\n",
      "\n",
      "Loss: 0.325090112877\n"
     ]
    }
   ],
   "source": [
    "Xtr, Ytr, Xval, Yval, Xte, Yte = load_CIFAR10('.')\n",
    "features_Xval = extract_features(Xval,[hog_features, color_histogram_hsv])\n",
    "model = load_model(\"arch_3_ALL.h5\")\n",
    "print \"ALL:\"\n",
    "scores = model.evaluate(features_Xval, Yval_cat)\n",
    "print \"\\nError de accuracy: \", 1 - scores[1]\n",
    "print \"\\nLoss:\", scores[0]\n",
    "del model\n",
    "\n",
    "features_Xval = extract_features(Xval,[hog_features])\n",
    "model = load_model(\"arch_3_HOG.h5\")\n",
    "print \"HOG:\"\n",
    "scores = model.evaluate(features_Xval, Yval_cat)\n",
    "print \"\\nError de accuracy: \", 1 - scores[1]\n",
    "print \"\\nLoss:\", scores[0]\n",
    "del model\n",
    "\n",
    "features_Xval = extract_features(Xval,[color_histogram_hsv])\n",
    "model = load_model(\"arch_3_HSV.h5\")\n",
    "print \"HSV:\"\n",
    "scores = model.evaluate(features_Xval, Yval_cat)\n",
    "print \"\\nError de accuracy: \", 1 - scores[1]\n",
    "print \"\\nLoss:\", scores[0]\n",
    "del model"
   ]
  },
  {
   "cell_type": "markdown",
   "metadata": {},
   "source": [
    "Es posible apreciar que el mejor resultado se obtuvo cuando se utilizaron todas las features de alto nivel, que por supuesto redujeron la dimensionalidad enormemente a 154 features (144 hog + 10 hsv). Por lo mismo la red fue entrenada mucho más rápido (3s/epoch versus 20s/epoch).\n",
    "\n",
    "La extracción de features mejoró en efecto todas las métricas revisadas. El mayor aporte en este caso se refieren a la extracción de features HOG."
   ]
  },
  {
   "cell_type": "markdown",
   "metadata": {},
   "source": [
    "### e) SVM no lineal para resolver clasficación en CIFAR10"
   ]
  },
  {
   "cell_type": "code",
   "execution_count": null,
   "metadata": {
    "collapsed": true
   },
   "outputs": [],
   "source": [
    "from sklearn.svm import SVC\n",
    "# Default kernel: rbf\n",
    "svm = SVC()\n",
    "svm.fit(Xtr.toarray(), Ytr)\n",
    "print \"Score sobre conjunto de entrenamiento:\",svm.score(Xtr.toarray(), Ytr)\n",
    "print \"Score sobre conjunto de prueba:\",svm.score(Xts.toarray(), Yts)"
   ]
  }
 ],
 "metadata": {
  "kernelspec": {
   "display_name": "Python 2",
   "language": "python",
   "name": "python2"
  },
  "language_info": {
   "codemirror_mode": {
    "name": "ipython",
    "version": 2
   },
   "file_extension": ".py",
   "mimetype": "text/x-python",
   "name": "python",
   "nbconvert_exporter": "python",
   "pygments_lexer": "ipython2",
   "version": "2.7.11"
  }
 },
 "nbformat": 4,
 "nbformat_minor": 0
}
