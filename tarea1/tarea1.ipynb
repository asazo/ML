{
 "cells": [
  {
   "cell_type": "markdown",
   "metadata": {},
   "source": [
    "# Tarea 1 Máquinas de Aprendizaje"
   ]
  },
  {
   "cell_type": "markdown",
   "metadata": {},
   "source": [
    "## Ejercicio 1"
   ]
  },
  {
   "cell_type": "markdown",
   "metadata": {},
   "source": [
    "(a) Construcción del dataframe. La primera columna del dataframe original es redundante para la indexación, mientras que la columna Train nos permite identificar cuales ejemplos serán parte del training set (Train = T) y del testing set (Train = F). Para explicitar qué ejemplos son del testing set se invierten los valores de verdad de dicha columna. Finalmente la columna ya utilizada se descarta para quedarnos con las columnas de predictores."
   ]
  },
  {
   "cell_type": "code",
   "execution_count": 1,
   "metadata": {
    "collapsed": false
   },
   "outputs": [],
   "source": [
    "import numpy as np\n",
    "import pandas as pd\n",
    "\n",
    "url = 'http://statweb.stanford.edu/~tibs/ElemStatLearn/datasets/prostate.data'\n",
    "df = pd.read_csv(url, sep='\\t', header=0)\n",
    "# Remover columna con indices redundantes\n",
    "df = df.drop('Unnamed: 0', axis=1)\n",
    "# Obtener columna con la etiqueta Train y reemplazar valores booleanos. Estos ejemplos seran de entrenamiento\n",
    "istrain_str = df['train']\n",
    "istrain = np.asarray([True if s == 'T' else False for s in istrain_str])\n",
    "# Listar como testing el resto de valores falsos de la columna anterior\n",
    "istest = np.logical_not(istrain)\n",
    "# Una vez procesado los datos, eliminar la columna train para almacenar los predictores relevantes\n",
    "df = df.drop('train', axis=1)"
   ]
  },
  {
   "cell_type": "markdown",
   "metadata": {},
   "source": [
    "(b) Descripción del dataset. El dataset posee 9 atributos y 97 samples con valores enteros y reales."
   ]
  },
  {
   "cell_type": "code",
   "execution_count": 2,
   "metadata": {
    "collapsed": false
   },
   "outputs": [
    {
     "name": "stdout",
     "output_type": "stream",
     "text": [
      "<class 'pandas.core.frame.DataFrame'>\n",
      "Int64Index: 97 entries, 0 to 96\n",
      "Data columns (total 9 columns):\n",
      "lcavol     97 non-null float64\n",
      "lweight    97 non-null float64\n",
      "age        97 non-null int64\n",
      "lbph       97 non-null float64\n",
      "svi        97 non-null int64\n",
      "lcp        97 non-null float64\n",
      "gleason    97 non-null int64\n",
      "pgg45      97 non-null int64\n",
      "lpsa       97 non-null float64\n",
      "dtypes: float64(5), int64(4)\n",
      "memory usage: 7.6 KB\n"
     ]
    },
    {
     "data": {
      "text/html": [
       "<div>\n",
       "<table border=\"1\" class=\"dataframe\">\n",
       "  <thead>\n",
       "    <tr style=\"text-align: right;\">\n",
       "      <th></th>\n",
       "      <th>lcavol</th>\n",
       "      <th>lweight</th>\n",
       "      <th>age</th>\n",
       "      <th>lbph</th>\n",
       "      <th>svi</th>\n",
       "      <th>lcp</th>\n",
       "      <th>gleason</th>\n",
       "      <th>pgg45</th>\n",
       "      <th>lpsa</th>\n",
       "    </tr>\n",
       "  </thead>\n",
       "  <tbody>\n",
       "    <tr>\n",
       "      <th>count</th>\n",
       "      <td>97.000000</td>\n",
       "      <td>97.000000</td>\n",
       "      <td>97.000000</td>\n",
       "      <td>97.000000</td>\n",
       "      <td>97.000000</td>\n",
       "      <td>97.000000</td>\n",
       "      <td>97.000000</td>\n",
       "      <td>97.000000</td>\n",
       "      <td>97.000000</td>\n",
       "    </tr>\n",
       "    <tr>\n",
       "      <th>mean</th>\n",
       "      <td>1.350010</td>\n",
       "      <td>3.628943</td>\n",
       "      <td>63.865979</td>\n",
       "      <td>0.100356</td>\n",
       "      <td>0.216495</td>\n",
       "      <td>-0.179366</td>\n",
       "      <td>6.752577</td>\n",
       "      <td>24.381443</td>\n",
       "      <td>2.478387</td>\n",
       "    </tr>\n",
       "    <tr>\n",
       "      <th>std</th>\n",
       "      <td>1.178625</td>\n",
       "      <td>0.428411</td>\n",
       "      <td>7.445117</td>\n",
       "      <td>1.450807</td>\n",
       "      <td>0.413995</td>\n",
       "      <td>1.398250</td>\n",
       "      <td>0.722134</td>\n",
       "      <td>28.204035</td>\n",
       "      <td>1.154329</td>\n",
       "    </tr>\n",
       "    <tr>\n",
       "      <th>min</th>\n",
       "      <td>-1.347074</td>\n",
       "      <td>2.374906</td>\n",
       "      <td>41.000000</td>\n",
       "      <td>-1.386294</td>\n",
       "      <td>0.000000</td>\n",
       "      <td>-1.386294</td>\n",
       "      <td>6.000000</td>\n",
       "      <td>0.000000</td>\n",
       "      <td>-0.430783</td>\n",
       "    </tr>\n",
       "    <tr>\n",
       "      <th>25%</th>\n",
       "      <td>0.512824</td>\n",
       "      <td>3.375880</td>\n",
       "      <td>60.000000</td>\n",
       "      <td>-1.386294</td>\n",
       "      <td>0.000000</td>\n",
       "      <td>-1.386294</td>\n",
       "      <td>6.000000</td>\n",
       "      <td>0.000000</td>\n",
       "      <td>1.731656</td>\n",
       "    </tr>\n",
       "    <tr>\n",
       "      <th>50%</th>\n",
       "      <td>1.446919</td>\n",
       "      <td>3.623007</td>\n",
       "      <td>65.000000</td>\n",
       "      <td>0.300105</td>\n",
       "      <td>0.000000</td>\n",
       "      <td>-0.798508</td>\n",
       "      <td>7.000000</td>\n",
       "      <td>15.000000</td>\n",
       "      <td>2.591516</td>\n",
       "    </tr>\n",
       "    <tr>\n",
       "      <th>75%</th>\n",
       "      <td>2.127041</td>\n",
       "      <td>3.876396</td>\n",
       "      <td>68.000000</td>\n",
       "      <td>1.558145</td>\n",
       "      <td>0.000000</td>\n",
       "      <td>1.178655</td>\n",
       "      <td>7.000000</td>\n",
       "      <td>40.000000</td>\n",
       "      <td>3.056357</td>\n",
       "    </tr>\n",
       "    <tr>\n",
       "      <th>max</th>\n",
       "      <td>3.821004</td>\n",
       "      <td>4.780383</td>\n",
       "      <td>79.000000</td>\n",
       "      <td>2.326302</td>\n",
       "      <td>1.000000</td>\n",
       "      <td>2.904165</td>\n",
       "      <td>9.000000</td>\n",
       "      <td>100.000000</td>\n",
       "      <td>5.582932</td>\n",
       "    </tr>\n",
       "  </tbody>\n",
       "</table>\n",
       "</div>"
      ],
      "text/plain": [
       "          lcavol    lweight        age       lbph        svi        lcp  \\\n",
       "count  97.000000  97.000000  97.000000  97.000000  97.000000  97.000000   \n",
       "mean    1.350010   3.628943  63.865979   0.100356   0.216495  -0.179366   \n",
       "std     1.178625   0.428411   7.445117   1.450807   0.413995   1.398250   \n",
       "min    -1.347074   2.374906  41.000000  -1.386294   0.000000  -1.386294   \n",
       "25%     0.512824   3.375880  60.000000  -1.386294   0.000000  -1.386294   \n",
       "50%     1.446919   3.623007  65.000000   0.300105   0.000000  -0.798508   \n",
       "75%     2.127041   3.876396  68.000000   1.558145   0.000000   1.178655   \n",
       "max     3.821004   4.780383  79.000000   2.326302   1.000000   2.904165   \n",
       "\n",
       "         gleason       pgg45       lpsa  \n",
       "count  97.000000   97.000000  97.000000  \n",
       "mean    6.752577   24.381443   2.478387  \n",
       "std     0.722134   28.204035   1.154329  \n",
       "min     6.000000    0.000000  -0.430783  \n",
       "25%     6.000000    0.000000   1.731656  \n",
       "50%     7.000000   15.000000   2.591516  \n",
       "75%     7.000000   40.000000   3.056357  \n",
       "max     9.000000  100.000000   5.582932  "
      ]
     },
     "execution_count": 2,
     "metadata": {},
     "output_type": "execute_result"
    }
   ],
   "source": [
    "df.shape\n",
    "df.info()\n",
    "df.describe()"
   ]
  },
  {
   "cell_type": "markdown",
   "metadata": {
    "collapsed": true
   },
   "source": [
    "(c) Normalización de datos. Este preprocesamiento de los datos es importante pues las features originales pueden venir en distintas escalas por lo tanto nuestro algoritmo de aprendizaje no funcionará correctamente, por ejemplo al utilizar funciones objetivo que incluyan métricas, los datos con mayor rango tenderán a dominar sobre los de menor rango; por otra parte también podría darse el caso de que la convergencia en algoritmos que usen gradiente descendiente sea lenta o imprecisa."
   ]
  },
  {
   "cell_type": "code",
   "execution_count": 3,
   "metadata": {
    "collapsed": false
   },
   "outputs": [],
   "source": [
    "from sklearn.preprocessing import StandardScaler\n",
    "# Por defecto centra y escala la data.\n",
    "scaler = StandardScaler(with_mean=True, with_std=True)\n",
    "df_scaled = pd.DataFrame(scaler.fit_transform(df), columns=df.columns)\n",
    "#  Deseamos aprender a predecir el feature lpsa, por lo que la recuperamos del original\n",
    "df_scaled['lpsa'] = df['lpsa']"
   ]
  },
  {
   "cell_type": "markdown",
   "metadata": {},
   "source": [
    "(d) Regresión lineal con Mínimos Cuadrados. En primer lugar extraemos la última columna de los datos, que corresponde al output $y$ de cada ejemplo. La nueva columna añadida corresponde al bias. El argumento pasado al constructor de LinearRegression indica que no se calculará intercepto para el modelo (ya lo hemos hecho a través de normalizar e ingresar la columna con bias 1)"
   ]
  },
  {
   "cell_type": "code",
   "execution_count": 4,
   "metadata": {
    "collapsed": false
   },
   "outputs": [
    {
     "data": {
      "text/plain": [
       "LinearRegression(copy_X=True, fit_intercept=False, n_jobs=1, normalize=False)"
      ]
     },
     "execution_count": 4,
     "metadata": {},
     "output_type": "execute_result"
    }
   ],
   "source": [
    "import sklearn.linear_model as lm\n",
    "X = df_scaled.ix[:,:-1]\n",
    "# Agregamos la columna de bias con 1\n",
    "N = X.shape[0]\n",
    "X.insert(X.shape[1], 'intercept', np.ones(N))\n",
    "# Obtener los datos de output conocidos y extraer test & training set\n",
    "y = df_scaled['lpsa']\n",
    "Xtrain = X[istrain]\n",
    "ytrain = y[istrain]\n",
    "Xtest = X[istest]\n",
    "ytest = y[istest]\n",
    "linreg = lm.LinearRegression(fit_intercept=False)\n",
    "linreg.fit(Xtrain, ytrain)"
   ]
  },
  {
   "cell_type": "markdown",
   "metadata": {},
   "source": [
    "(e) Tabla de pesos (coeficientes) y Z-scores para cada variable. Los Z-scores miden el efecto de descartar alguna variable del modelo. Cuando deseamos un 5% de significancia, las variables que resultarán más importantes deberán tener Z-score en valor abosluto mayor que 2, lo que indica una significancia del 5%. Las variables mas importante por lo tanto son en orden de Z-score decreciente **lcavol**, **svi**, **lcp** y **pgg45**"
   ]
  },
  {
   "cell_type": "code",
   "execution_count": 5,
   "metadata": {
    "collapsed": false,
    "scrolled": true
   },
   "outputs": [
    {
     "data": {
      "text/html": [
       "<div>\n",
       "<table border=\"1\" class=\"dataframe\">\n",
       "  <thead>\n",
       "    <tr style=\"text-align: right;\">\n",
       "      <th></th>\n",
       "      <th>Coefficent</th>\n",
       "      <th>Std. Error</th>\n",
       "      <th>Z-score</th>\n",
       "    </tr>\n",
       "  </thead>\n",
       "  <tbody>\n",
       "    <tr>\n",
       "      <th>lcavol</th>\n",
       "      <td>0.676016</td>\n",
       "      <td>0.129469</td>\n",
       "      <td>5.221460</td>\n",
       "    </tr>\n",
       "    <tr>\n",
       "      <th>lweight</th>\n",
       "      <td>0.261694</td>\n",
       "      <td>0.136618</td>\n",
       "      <td>1.915519</td>\n",
       "    </tr>\n",
       "    <tr>\n",
       "      <th>age</th>\n",
       "      <td>-0.140734</td>\n",
       "      <td>0.123746</td>\n",
       "      <td>-1.137281</td>\n",
       "    </tr>\n",
       "    <tr>\n",
       "      <th>lbph</th>\n",
       "      <td>0.209061</td>\n",
       "      <td>0.123892</td>\n",
       "      <td>1.687447</td>\n",
       "    </tr>\n",
       "    <tr>\n",
       "      <th>svi</th>\n",
       "      <td>0.303623</td>\n",
       "      <td>0.124582</td>\n",
       "      <td>2.437133</td>\n",
       "    </tr>\n",
       "    <tr>\n",
       "      <th>lcp</th>\n",
       "      <td>-0.287002</td>\n",
       "      <td>0.123022</td>\n",
       "      <td>-2.332923</td>\n",
       "    </tr>\n",
       "    <tr>\n",
       "      <th>gleason</th>\n",
       "      <td>-0.021195</td>\n",
       "      <td>0.120547</td>\n",
       "      <td>-0.175822</td>\n",
       "    </tr>\n",
       "    <tr>\n",
       "      <th>pgg45</th>\n",
       "      <td>0.265576</td>\n",
       "      <td>0.127584</td>\n",
       "      <td>2.081583</td>\n",
       "    </tr>\n",
       "    <tr>\n",
       "      <th>intercept</th>\n",
       "      <td>2.464933</td>\n",
       "      <td>0.000000</td>\n",
       "      <td>inf</td>\n",
       "    </tr>\n",
       "  </tbody>\n",
       "</table>\n",
       "</div>"
      ],
      "text/plain": [
       "           Coefficent  Std. Error   Z-score\n",
       "lcavol       0.676016    0.129469  5.221460\n",
       "lweight      0.261694    0.136618  1.915519\n",
       "age         -0.140734    0.123746 -1.137281\n",
       "lbph         0.209061    0.123892  1.687447\n",
       "svi          0.303623    0.124582  2.437133\n",
       "lcp         -0.287002    0.123022 -2.332923\n",
       "gleason     -0.021195    0.120547 -0.175822\n",
       "pgg45        0.265576    0.127584  2.081583\n",
       "intercept    2.464933    0.000000       inf"
      ]
     },
     "execution_count": 5,
     "metadata": {},
     "output_type": "execute_result"
    }
   ],
   "source": [
    "# Correlacion entre variables\n",
    "# print Xtrain.drop('intercept', axis=1).corr()\n",
    "\n",
    "# Tabla con coefficientes y sus Z-score\n",
    "coeffs = linreg.coef_\n",
    "Table = pd.DataFrame(coeffs, index=X.columns, columns=['Coefficent'])\n",
    "Table['Std. Error'] = Xtrain.std() / np.sqrt(Xtrain.shape[0])\n",
    "Table['Z-score'] = Table['Coefficent'].div(Table['Std. Error'], axis=0)\n",
    "Table"
   ]
  },
  {
   "cell_type": "markdown",
   "metadata": {
    "collapsed": true
   },
   "source": [
    "(f) Estimación de errores de predicción. El uso de cross validation nos permitirá entender que tan bien generaliza nuestra máquina mientras no tengamos disponible el testing set. La máquina entrenando con 5 folds presenta un MSE (Mean squared error o error cuadrático medio) de 0.95, mientras que con 10 folds el MSE disminuye a 0.75. El MSE en el testing set es finalmente de 0.5, lo cual es positivo pues nuestro modelo original tenía un alto error en el training set, pero las pruebas sobre el testing set fueron mejores."
   ]
  },
  {
   "cell_type": "code",
   "execution_count": 6,
   "metadata": {
    "collapsed": false
   },
   "outputs": [
    {
     "name": "stdout",
     "output_type": "stream",
     "text": [
      "MSE para testing set: 0.521274005508\n",
      "MSE para 5 folds: 0.956514631616\n",
      "MSE para 10 folds: 0.757237472963\n"
     ]
    }
   ],
   "source": [
    "# Predecir en el testing set\n",
    "yhat_test = linreg.predict(Xtest)\n",
    "# Calcular error cuadrático medio en el testing set\n",
    "mse_test = np.mean(np.power(yhat_test - ytest, 2))\n",
    "print \"MSE para testing set:\", mse_test\n",
    "from sklearn import cross_validation\n",
    "Xm = Xtrain.as_matrix()\n",
    "ym = ytrain.as_matrix()\n",
    "# Definir numero de folds\n",
    "n_folds = [5, 10]\n",
    "# Estimar error con 5 y 10 folds\n",
    "for nf in n_folds:\n",
    "    k_fold = cross_validation.KFold(len(Xm), nf)\n",
    "    # MSE para cross validation\n",
    "    mse_cv = 0\n",
    "    for k, (train, val) in enumerate(k_fold):\n",
    "        linreg = lm.LinearRegression(fit_intercept = False)\n",
    "        # Modelar con el subconjunto del training set dado por el fold\n",
    "        linreg.fit(Xm[train], ym[train])\n",
    "        yhat_val = linreg.predict(Xm[val])\n",
    "        mse_fold = np.mean(np.power(yhat_val - ym[val], 2))\n",
    "        mse_cv += mse_fold\n",
    "    mse_cv = mse_cv / nf\n",
    "    print \"MSE para\",nf,\"folds:\",mse_cv"
   ]
  },
  {
   "cell_type": "markdown",
   "metadata": {},
   "source": [
    "j) QQ Plot para error de prueba. Podemos observar que $R^2 = 0.9537$, lo que indica una alta correlación entre los datos de predicción, por lo que es razonable suponer que los residuos se distribuyen de forma normal."
   ]
  },
  {
   "cell_type": "code",
   "execution_count": 7,
   "metadata": {
    "collapsed": false
   },
   "outputs": [
    {
     "data": {
      "image/png": "[encoded data removed]",
      "text/plain": [
       "<matplotlib.figure.Figure at 0x7f2bc87dacd0>"
      ]
     },
     "metadata": {},
     "output_type": "display_data"
    }
   ],
   "source": [
    "%matplotlib inline\n",
    "import matplotlib.pyplot as plt\n",
    "import scipy.stats as stats\n",
    "residual = yhat_test - ytest\n",
    "plt.figure(figsize=(6,6))\n",
    "stats.probplot(residual, dist=\"norm\", plot=plt)\n",
    "plt.title(\"Q-Q Plot\")\n",
    "plt.xlabel(\"Quantiles\")\n",
    "plt.ylabel(\"Residuos\")\n",
    "plt.show()"
   ]
  },
  {
   "cell_type": "markdown",
   "metadata": {},
   "source": [
    "## Ejercicio 2"
   ]
  },
  {
   "cell_type": "markdown",
   "metadata": {},
   "source": [
    "(a) Implementación de FSS. En vez de simplemente usar el error cuadrático medio como criterio para aceptar o no una variable se ha implementado una versión que utiliza el coeficiente $R^2$. Gráficamente los errores de entrenamiento siempre decrecen, pero con 5 variables los errores en el conjunto de test son del orden de 0.45, añadir más variables aumenta el error de test a partir de ese punto"
   ]
  },
  {
   "cell_type": "code",
   "execution_count": 8,
   "metadata": {
    "collapsed": false
   },
   "outputs": [
    {
     "name": "stdout",
     "output_type": "stream",
     "text": [
      "selected = Lcavol ...\n",
      "totalvars=2, R^2 = 0.537516\n",
      "selected = Lweight ...\n",
      "totalvars=3, R^2 = 0.614756\n",
      "selected = Svi ...\n",
      "totalvars=4, R^2 = 0.637441\n",
      "selected = Lbph ...\n",
      "totalvars=5, R^2 = 0.659176\n",
      "selected = Pgg45 ...\n",
      "totalvars=6, R^2 = 0.666920\n",
      "selected = Lcp ...\n",
      "totalvars=7, R^2 = 0.682807\n",
      "selected = Age ...\n",
      "totalvars=8, R^2 = 0.694258\n",
      "selected = Gleason ...\n",
      "totalvars=9, R^2 = 0.694371\n"
     ]
    },
    {
     "data": {
      "image/png": "[encoded data removed]",
      "text/plain": [
       "<matplotlib.figure.Figure at 0x7f2bc87dad50>"
      ]
     },
     "metadata": {},
     "output_type": "display_data"
    }
   ],
   "source": [
    "def fss(x, y, x_test, y_test, names_x, k = 10000):\n",
    "    \"\"\"\n",
    "        Forward Step-wise Selection\n",
    "        Args:\n",
    "            x: Training set x\n",
    "            y: Training set y\n",
    "            x_test: Testing set x\n",
    "            y_test: Testing set y\n",
    "            names_x: Labels for training set x\n",
    "            k: Max number of variables\n",
    "    \"\"\"\n",
    "    # Numero de features\n",
    "    p = x.shape[1]-1\n",
    "    k = min(p, k)\n",
    "    names_x = np.array(names_x)\n",
    "    remaining = range(0, p)\n",
    "    # Mantener intercepto\n",
    "    selected = [p]\n",
    "    current_score = 0.0\n",
    "    best_new_score = 0.0\n",
    "    nvars = []\n",
    "    training_errors = []\n",
    "    test_errors = []\n",
    "    # Mientras hayan candidatos y las variables seleccionadas no superen k\n",
    "    while remaining and len(selected) <= k:\n",
    "        score_candidates = []\n",
    "        # Por cada variable candidata\n",
    "        for candidate in remaining:\n",
    "            # Crear un nuevo modelo de regresion\n",
    "            model = lm.LinearRegression(fit_intercept=False)\n",
    "            indexes = selected + [candidate]\n",
    "            # Extraer como conjunto de entrenamiento el intercepto \n",
    "            # y los valores asociados a las variables elegidas\n",
    "            x_train = x[:,indexes]\n",
    "            # Hacer el fit del modelo y predecir\n",
    "            model.fit(x_train, y)\n",
    "            # Predecir sobre training y test\n",
    "            _x_test = x_test.as_matrix()[:,indexes]\n",
    "            yhat_train = model.predict(x_train)\n",
    "            yhat_test = model.predict(_x_test)\n",
    "            # Obtener residuos y calcular R^2\n",
    "            residuals_train = yhat_train - y\n",
    "            residuals_test = yhat_test - y_test\n",
    "            # Calcular Error de entrenamiento\n",
    "            training_error = np.mean(np.power(residuals_train,2))\n",
    "            test_error = np.mean(np.power(residuals_test, 2))\n",
    "            mean_y = np.mean(y)\n",
    "            SS_tot = np.sum(np.power(y-mean_y,2))\n",
    "            SS_res = np.sum(np.power(residuals_train,2))\n",
    "            R2 = 1 - (SS_res/SS_tot)\n",
    "            score_candidates.append((R2, candidate, training_error, test_error))\n",
    "        # Una vez analizadas las candidatas ordenar scores de mayor a menor\n",
    "        score_candidates.sort()\n",
    "        # Extraer el elemento de mejor score\n",
    "        best_new_score, best_candidate, best_training_error, best_test_error= score_candidates.pop()\n",
    "        # Remover al candidato de la lista de restantes y agregarlo a la lista de seleccionados\n",
    "        remaining.remove(best_candidate)\n",
    "        selected.append(best_candidate)\n",
    "        nvars.append(len(indexes))\n",
    "        training_errors.append(best_training_error)\n",
    "        test_errors.append(best_test_error)\n",
    "        # R^2 correspondiente a esta configuracion para testing set\n",
    "        print \"selected = %s ...\"%names_x[best_candidate]\n",
    "        print \"totalvars=%d, R^2 = %f\"%(len(indexes),best_new_score)\n",
    "    return selected, nvars, training_errors, test_errors\n",
    "\n",
    "names_regressors = [\"Lcavol\", \"Lweight\", \"Age\", \"Lbph\", \"Svi\", \"Lcp\", \"Gleason\", \"Pgg45\"]\n",
    "selected, nvars, training_errors, test_errors = fss(Xm, ym, Xtest, ytest, names_regressors)\n",
    "plt.figure(figsize=(6,6))\n",
    "plt.plot(nvars, training_errors, 'bo-', label=\"Training error\")\n",
    "plt.plot(nvars, test_errors, 'ro-', label=\"Test error\")\n",
    "plt.legend()\n",
    "plt.xlabel(\"# variables\")\n",
    "plt.ylabel(\"MSE\")\n",
    "plt.show()"
   ]
  },
  {
   "cell_type": "markdown",
   "metadata": {},
   "source": [
    "(b) Implementación de BSS. Se mantiene la forma de calcular el score anterior. En este caso los resultados obtenidos son consistentes con la implementación de FSS. Con este dataset y score es posible apreciar que ambos algoritmos llegan a una zona donde los errores de testing son inferiores a 0.5 y menores a los errores de entrenamiento (modelo 2 a 5 variables)."
   ]
  },
  {
   "cell_type": "code",
   "execution_count": 9,
   "metadata": {
    "collapsed": false
   },
   "outputs": [
    {
     "name": "stdout",
     "output_type": "stream",
     "text": [
      "No variables dropped\n",
      "totalvars=9, best R^2 = 0.694371\n",
      "dropped = Gleason ...\n",
      "surviving = ['Lcavol' 'Lweight' 'Age' 'Lbph' 'Svi' 'Lcp' 'Pgg45'] ...\n",
      "totalvars=8, best R^2 = 0.694258\n",
      "dropped = Age ...\n",
      "surviving = ['Lcavol' 'Lweight' 'Lbph' 'Svi' 'Lcp' 'Pgg45'] ...\n",
      "totalvars=7, best R^2 = 0.682807\n",
      "dropped = Lcp ...\n",
      "surviving = ['Lcavol' 'Lweight' 'Lbph' 'Svi' 'Pgg45'] ...\n",
      "totalvars=6, best R^2 = 0.666920\n",
      "dropped = Pgg45 ...\n",
      "surviving = ['Lcavol' 'Lweight' 'Lbph' 'Svi'] ...\n",
      "totalvars=5, best R^2 = 0.659176\n",
      "dropped = Lbph ...\n",
      "surviving = ['Lcavol' 'Lweight' 'Svi'] ...\n",
      "totalvars=4, best R^2 = 0.637441\n",
      "dropped = Svi ...\n",
      "surviving = ['Lcavol' 'Lweight'] ...\n",
      "totalvars=3, best R^2 = 0.614756\n",
      "dropped = Lweight ...\n",
      "surviving = ['Lcavol'] ...\n",
      "totalvars=2, best R^2 = 0.537516\n"
     ]
    },
    {
     "data": {
      "image/png": "[encoded data removed]",
      "text/plain": [
       "<matplotlib.figure.Figure at 0x7f2bf03264d0>"
      ]
     },
     "metadata": {},
     "output_type": "display_data"
    }
   ],
   "source": [
    "def bss(x, y, x_test, y_test, names_x):\n",
    "    names_x = np.array(names_x)\n",
    "    # Inicialmente no descartamos ningun valor\n",
    "    dropped = []\n",
    "    # Las variables del modelo son todas las originales\n",
    "    variables = range(0, x.shape[1])\n",
    "    nvars = []\n",
    "    training_errors = []\n",
    "    test_errors = []\n",
    "    # Mientras hayan variables\n",
    "    while len(variables) > 1:\n",
    "        scores = []\n",
    "        # Por cada variable verificar cual es aquella que menos influye\n",
    "        for candidate in variables:\n",
    "            # Crear un nuevo modelo de regresion\n",
    "            model = lm.LinearRegression(fit_intercept=False)\n",
    "            indexes = []\n",
    "            indexes[:] = variables + [x.shape[1]-1]\n",
    "            # Remover una variable\n",
    "            indexes.remove(candidate)\n",
    "            x_train = x[:,indexes]\n",
    "            # Hacer el fit del modelo y predecir\n",
    "            model.fit(x_train, y)\n",
    "            # Predecir sobre training y test\n",
    "            _x_test = x_test.as_matrix()[:,indexes]\n",
    "            yhat_test = model.predict(_x_test)\n",
    "            yhat_train = model.predict(x_train)\n",
    "            # Obtener residuos y calcular R^2\n",
    "            residuals_train = yhat_train - y\n",
    "            residuals_test = yhat_test - y_test\n",
    "            # Calcular Error de entrenamiento\n",
    "            training_error = np.mean(np.power(residuals_train,2))\n",
    "            test_error = np.mean(np.power(residuals_test, 2))\n",
    "            mean_y = np.mean(y)\n",
    "            SS_tot = np.sum(np.power(y-mean_y,2))\n",
    "            SS_res = np.sum(np.power(residuals_train,2))\n",
    "            # Calcular R^2 para cada modelo\n",
    "            R2 = 1 - (SS_res/SS_tot)\n",
    "            scores.append((R2, candidate, training_error, test_error))\n",
    "        scores.sort()\n",
    "        best_new_score, drop_candidate, best_training_error, best_test_error = scores.pop()\n",
    "        #score_dropped[:] = score_dropped[::-1]\n",
    "        #worst_new_score, worst_candidate, worst_training_error, worst_test_error = score_dropped.pop()\n",
    "        variables.remove(drop_candidate)\n",
    "        dropped.append(drop_candidate)\n",
    "        nvars.append(len(indexes))\n",
    "        training_errors.append(best_training_error)\n",
    "        test_errors.append(best_test_error)\n",
    "        # R^2 correspondiente a esta configuracion para testing set\n",
    "        if(len(variables) == x.shape[1]-1):\n",
    "            print \"No variables dropped\"\n",
    "            print \"totalvars=%d, best R^2 = %f\"%(len(indexes), best_new_score)\n",
    "        else:\n",
    "            print \"dropped = %s ...\"%names_x[drop_candidate]\n",
    "            print \"surviving = %s ...\"%names_x[variables]\n",
    "            print \"totalvars=%d, best R^2 = %f\"%(len(indexes), best_new_score)\n",
    "    return  nvars, training_errors, test_errors\n",
    "\n",
    "nvars, training_errors, test_errors = bss(Xm, ym, Xtest, ytest, names_regressors)\n",
    "\n",
    "plt.figure(figsize=(6,6))\n",
    "plt.gca().invert_xaxis()\n",
    "plt.plot(nvars, training_errors, 'bo-', label=\"Training error\")\n",
    "plt.plot(nvars, test_errors, 'ro-', label=\"Test error\")\n",
    "plt.legend()\n",
    "plt.xlabel(\"# variables\")\n",
    "plt.ylabel(\"MSE\")\n",
    "plt.show()"
   ]
  },
  {
   "cell_type": "markdown",
   "metadata": {
    "collapsed": true
   },
   "source": [
    "## Ejercicio 3"
   ]
  },
  {
   "cell_type": "markdown",
   "metadata": {},
   "source": [
    "(a) Ajuste un modelo lineal utilizando \"Ridge Regression\", es decir, regularizando con la norma L2. Utilice valores del parámetro de regularización λ ‡ en el rango [10⁴, 10⁻¹]. Construya un gráfico que muestre los coeficientes obtenidos como función del parámetro de regularización. Describa lo que observa."
   ]
  },
  {
   "cell_type": "code",
   "execution_count": 10,
   "metadata": {
    "collapsed": true
   },
   "outputs": [],
   "source": [
    "X = X.drop('intercept', axis=1)"
   ]
  },
  {
   "cell_type": "code",
   "execution_count": 11,
   "metadata": {
    "collapsed": false,
    "scrolled": true
   },
   "outputs": [
    {
     "data": {
      "image/png": "[encoded data removed]",
      "text/plain": [
       "<matplotlib.figure.Figure at 0x7f2bb9fe25d0>"
      ]
     },
     "metadata": {},
     "output_type": "display_data"
    }
   ],
   "source": [
    "from sklearn.linear_model import Ridge\n",
    "import matplotlib.pylab as plt\n",
    "\n",
    "Xtrain = X[istrain]\n",
    "ytrain = y[istrain]\n",
    "names_regressors = [\"Lcavol\", \"Lweight\", \"Age\", \"Lbph\", \"Svi\", \"Lcp\", \"Gleason\", \"Pgg45\"]\n",
    "alphas_ = np.logspace(4,-1,base=10)\n",
    "coefs = []\n",
    "model = Ridge(fit_intercept=True,solver='svd')\n",
    "\n",
    "for a in alphas_:\n",
    "    model.set_params(alpha=a)\n",
    "    model.fit(Xtrain, ytrain)\n",
    "    coefs.append(model.coef_)\n",
    "\n",
    "ax = plt.gca()\n",
    "\n",
    "for y_arr, label in zip(np.squeeze(coefs).T, names_regressors):\n",
    "    plt.plot(alphas_, y_arr, label=label)\n",
    "\n",
    "plt.legend()\n",
    "ax.set_xscale('log')\n",
    "ax.set_xlim(ax.get_xlim()[::-1]) # reverse axis\n",
    "plt.xlabel('alpha')\n",
    "plt.ylabel('weights')\n",
    "plt.title('Regularization Path RIDGE')\n",
    "plt.axis('tight')\n",
    "plt.legend(loc=2)\n",
    "plt.show()"
   ]
  },
  {
   "cell_type": "markdown",
   "metadata": {},
   "source": [
    "Se observa que a mayor alpha el algoritmo es más agresivo en no considerar variables (darles peso 0). El comportamiento se estabiliza, en este caso, en 10⁻¹ (se hizo experimentos con valores menores de alpha y es muy similar el resultado)."
   ]
  },
  {
   "cell_type": "markdown",
   "metadata": {},
   "source": [
    "(b) Ajuste un modelo lineal utilizando el método \"Lasso\", es decir, regularizando con la norma L1. Utilice\n",
    "valores del parámetro de regularización λ § en el rango [10¹ , 10⁻²]. Para obtener el código, modifique las lı́neas 7 y 9 del ejemplo anterior. Construya un gráfico que muestre los coeficientes obtenidos como función del parámetro de regularización. Describa lo que observa. ¿Es más efectivo Lasso para seleccionar atributos?"
   ]
  },
  {
   "cell_type": "code",
   "execution_count": 12,
   "metadata": {
    "collapsed": false
   },
   "outputs": [
    {
     "data": {
      "image/png": "[encoded data removed]",
      "text/plain": [
       "<matplotlib.figure.Figure at 0x7f2bb645a290>"
      ]
     },
     "metadata": {},
     "output_type": "display_data"
    }
   ],
   "source": [
    "from sklearn.linear_model import Lasso\n",
    "import matplotlib.pylab as plt\n",
    "\n",
    "Xtrain = X[istrain]\n",
    "ytrain = y[istrain]\n",
    "names_regressors = [\"Lcavol\", \"Lweight\", \"Age\", \"Lbph\", \"Svi\", \"Lcp\", \"Gleason\", \"Pgg45\"]\n",
    "alphas_ = np.logspace(1,-2,base=10)\n",
    "coefs = []\n",
    "model = Lasso(fit_intercept=True)\n",
    "\n",
    "for a in alphas_:\n",
    "    model.set_params(alpha=a)\n",
    "    model.fit(Xtrain, ytrain)\n",
    "    coefs.append(model.coef_)\n",
    "\n",
    "ax = plt.gca()\n",
    "\n",
    "for y_arr, label in zip(np.squeeze(coefs).T, names_regressors):\n",
    "    plt.plot(alphas_, y_arr, label=label)\n",
    "\n",
    "plt.legend()\n",
    "ax.set_xscale('log')\n",
    "ax.set_xlim(ax.get_xlim()[::-1]) # reverse axis\n",
    "plt.xlabel('alpha')\n",
    "plt.ylabel('weights')\n",
    "plt.title('Regularization Path LASSO')\n",
    "plt.axis('tight')\n",
    "plt.legend(loc=2)\n",
    "plt.show()"
   ]
  },
  {
   "cell_type": "markdown",
   "metadata": {},
   "source": [
    "Con Lasso se anulan las variables de manera más acelerada lo cual logra que la selección del parámetro alpha se comporte, aproximadamente, como la cantidad de variables a anular."
   ]
  },
  {
   "cell_type": "markdown",
   "metadata": {},
   "source": [
    "(c) Utilizando \"Ridge Regression\", construya un gráfico que muestre el error de entrenamiento y el error de pruebas como función del parámetro de regularización. Discuta lo que observa."
   ]
  },
  {
   "cell_type": "code",
   "execution_count": 13,
   "metadata": {
    "collapsed": false
   },
   "outputs": [
    {
     "data": {
      "image/png": "[encoded data removed]",
      "text/plain": [
       "<matplotlib.figure.Figure at 0x7f2bb648c190>"
      ]
     },
     "metadata": {},
     "output_type": "display_data"
    },
    {
     "name": "stdout",
     "output_type": "stream",
     "text": [
      "El error minimo se encuentra en alpha = 2.20307927232\n"
     ]
    }
   ],
   "source": [
    "Xtest = X[np.logical_not(istrain)]\n",
    "ytest = y[np.logical_not(istrain)]\n",
    "alphas_ = np.logspace(2,-2,base=10)\n",
    "coefs = []\n",
    "model = Ridge(fit_intercept=True)\n",
    "mse_test = []\n",
    "mse_train = []\n",
    "\n",
    "for a in alphas_:\n",
    "    model.set_params(alpha=a)\n",
    "    model.fit(Xtrain, ytrain)\n",
    "    yhat_train = model.predict(Xtrain)\n",
    "    yhat_test = model.predict(Xtest)\n",
    "    mse_train.append(np.mean(np.power(yhat_train - ytrain, 2)))\n",
    "    mse_test.append(np.mean(np.power(yhat_test - ytest, 2)))\n",
    "\n",
    "ax = plt.gca()\n",
    "ax.plot(alphas_,mse_train,label='train error ridge')\n",
    "ax.plot(alphas_,mse_test,label='test error ridge')\n",
    "plt.legend(loc=2)\n",
    "ax.set_xscale('log')\n",
    "ax.set_xlim(ax.get_xlim()[::-1])\n",
    "plt.show()\n",
    "\n",
    "print \"El error minimo se encuentra en alpha =\", min(zip(mse_test, yhat_test))[1]"
   ]
  },
  {
   "cell_type": "markdown",
   "metadata": {},
   "source": [
    "El error de entrenamiento de Ridge es menor a medida que disminuye el alpha (más variables son consideradas) producto, probablemente, del sobre ajuste. Mientras tanto el error en el conjunto de prueba encuentra su optimo en un punto (en este caso en alpha igual a 2.2) lo que hace latente la necesidad de usar técnicas como cross-validation para empíricamente tener una mejor intuición de cuales son los parámetros óptimos."
   ]
  },
  {
   "cell_type": "markdown",
   "metadata": {},
   "source": [
    "(d) Utilizando \"Lasso\", construya un gráfico que muestre el error de entrenamiento y el error de pruebas como función del parámetro de regularización. Discuta lo que observa."
   ]
  },
  {
   "cell_type": "code",
   "execution_count": 14,
   "metadata": {
    "collapsed": false
   },
   "outputs": [
    {
     "data": {
      "image/png": "[encoded data removed]",
      "text/plain": [
       "<matplotlib.figure.Figure at 0x7f2bb5e653d0>"
      ]
     },
     "metadata": {},
     "output_type": "display_data"
    }
   ],
   "source": [
    "Xtest = X[np.logical_not(istrain)]\n",
    "ytest = y[np.logical_not(istrain)]\n",
    "alphas_ = np.logspace(0.5,-2,base=10)\n",
    "coefs = []\n",
    "model = Lasso(fit_intercept=True)\n",
    "mse_test = []\n",
    "mse_train = []\n",
    "\n",
    "for a in alphas_:\n",
    "    model.set_params(alpha=a)\n",
    "    model.fit(Xtrain, ytrain)\n",
    "    yhat_train = model.predict(Xtrain)\n",
    "    yhat_test = model.predict(Xtest)\n",
    "    mse_train.append(np.mean(np.power(yhat_train - ytrain, 2)))\n",
    "    mse_test.append(np.mean(np.power(yhat_test - ytest, 2)))\n",
    "\n",
    "ax = plt.gca()\n",
    "ax.plot(alphas_,mse_train,label='train error lasso')\n",
    "ax.plot(alphas_,mse_test,label='test error lasso')\n",
    "plt.legend(loc=2)\n",
    "ax.set_xscale('log')\n",
    "ax.set_xlim(ax.get_xlim()[::-1])\n",
    "plt.show()"
   ]
  },
  {
   "cell_type": "markdown",
   "metadata": {},
   "source": [
    "Se observa lo mismo que el ejercicio anterior pero de forma más agresiva producto de lo discutido en la pregunta (b)"
   ]
  },
  {
   "cell_type": "markdown",
   "metadata": {},
   "source": [
    "(e) Estime el valor del parámetro de regularización en los métodos anteriores usando validación cruzada."
   ]
  },
  {
   "cell_type": "code",
   "execution_count": 15,
   "metadata": {
    "collapsed": false
   },
   "outputs": [
    {
     "name": "stdout",
     "output_type": "stream",
     "text": [
      "BEST PARAMETER=0.010000, MSE(CV)=0.758661\n"
     ]
    }
   ],
   "source": [
    "def MSE(y,yhat): return np.mean(np.power(y-yhat,2))\n",
    "Xm = Xtrain.as_matrix()\n",
    "ym = ytrain.as_matrix()\n",
    "k_fold = cross_validation.KFold(len(Xm),10)\n",
    "best_cv_mse = float(\"inf\")\n",
    "model = Lasso(fit_intercept=True)\n",
    "\n",
    "for a in alphas_:\n",
    "    model.set_params(alpha=a)\n",
    "    mse_list_k10 = [MSE(model.fit(Xm[train], ym[train]).predict(Xm[val]), ym[val]) \\\n",
    "    for train, val in k_fold]\n",
    "    if np.mean(mse_list_k10) < best_cv_mse:\n",
    "        best_cv_mse = np.mean(mse_list_k10)\n",
    "        best_alpha = a\n",
    "\n",
    "print \"BEST PARAMETER=%f, MSE(CV)=%f\"%(best_alpha,best_cv_mse)"
   ]
  },
  {
   "cell_type": "markdown",
   "metadata": {},
   "source": [
    "# Ejercicio 4"
   ]
  },
  {
   "cell_type": "markdown",
   "metadata": {},
   "source": [
    "(a) Lea los archivos de datos y cárguelos en dos dataframe o matrices X, y. En el caso de X es extremadamente importante que mantenga el formato disperso (sparse) (¿porqué?)."
   ]
  },
  {
   "cell_type": "code",
   "execution_count": 16,
   "metadata": {
    "collapsed": true
   },
   "outputs": [],
   "source": [
    "import os.path\n",
    "data_base_path = \"./data\"\n",
    "import pandas as pd\n",
    "import numpy as np\n",
    "from scipy.sparse import csr_matrix\n",
    "from scipy.io import mmread\n",
    "\n",
    "X_train = csr_matrix(mmread(os.path.join(data_base_path, 'train.x.mm')))\n",
    "y_train = np.loadtxt(os.path.join(data_base_path, 'train.y.dat'))\n",
    "\n",
    "X_dev = csr_matrix(mmread(os.path.join(data_base_path, 'dev.x.mm')))\n",
    "y_dev = np.loadtxt(os.path.join(data_base_path, 'dev.y.dat'))\n",
    "\n",
    "X_test = csr_matrix(mmread(os.path.join(data_base_path, 'test.x.mm')))\n",
    "y_test = np.loadtxt(os.path.join(data_base_path, 'test.y.dat'))"
   ]
  },
  {
   "cell_type": "markdown",
   "metadata": {},
   "source": [
    "Se usa una matriz sparse ya que, producto de que hay muchos datos vacios (normal en texto). Así se comprime la matriz y queda en un tamaño manejable."
   ]
  },
  {
   "cell_type": "markdown",
   "metadata": {},
   "source": [
    "(b) Construya un modelo lineal que obtenga un coeficiente de determinación (sobre el conjunto de pruebas) de al menos 0.75."
   ]
  },
  {
   "cell_type": "code",
   "execution_count": 17,
   "metadata": {
    "collapsed": false
   },
   "outputs": [
    {
     "data": {
      "text/plain": [
       "(1147, 145256)"
      ]
     },
     "execution_count": 17,
     "metadata": {},
     "output_type": "execute_result"
    }
   ],
   "source": [
    "X_train.get_shape()"
   ]
  },
  {
   "cell_type": "markdown",
   "metadata": {},
   "source": [
    "Se observa que hay 1147 peliculas cada una con 145256 atributos."
   ]
  },
  {
   "cell_type": "code",
   "execution_count": 18,
   "metadata": {
    "collapsed": true
   },
   "outputs": [],
   "source": [
    "#from sklearn.preprocessing import StandardScaler\n",
    "\n",
    "#x_scaler = StandardScaler(with_mean=False)\n",
    "\n",
    "#X_train = x_scaler.fit_transform(X_train, y_train)\n",
    "#X_test = x_scaler.transform(X_test, y_test)"
   ]
  },
  {
   "cell_type": "markdown",
   "metadata": {},
   "source": [
    "Se prueba escalar los datos pero esto devuelve peores resultados."
   ]
  },
  {
   "cell_type": "code",
   "execution_count": 19,
   "metadata": {
    "collapsed": true
   },
   "outputs": [],
   "source": [
    "from sklearn.feature_selection import SelectKBest, chi2\n",
    "\n",
    "ch2 = SelectKBest(chi2, k=29000)\n",
    "\n",
    "X_train = ch2.fit_transform(X_train, y_train)\n",
    "X_dev = ch2.transform(X_dev)\n",
    "X_test = ch2.transform(X_test)"
   ]
  },
  {
   "cell_type": "markdown",
   "metadata": {},
   "source": [
    "Se utiliza la extracción de caracteristicas KBest mediante la metrica chi cuadrado. Esto ya que documentación de sklearn muestra que es utilizada cuando la data esta basada en texto (como es el caso).\n",
    "\n",
    "La cantidad de catacteristicas se obtiene mediante prueba y error.\n",
    "\n",
    "Fuente: http://scikit-learn.org/stable/auto_examples/text/document_classification_20newsgroups.html#example-text-document-classification-20newsgroups-py"
   ]
  },
  {
   "cell_type": "code",
   "execution_count": 20,
   "metadata": {
    "collapsed": false
   },
   "outputs": [
    {
     "name": "stdout",
     "output_type": "stream",
     "text": [
      "R2=0.600107\n"
     ]
    }
   ],
   "source": [
    "import sklearn.linear_model as lm\n",
    "\n",
    "model = lm.LinearRegression(fit_intercept = False)\n",
    "model.fit(X_train, y_train)\n",
    "\n",
    "print \"R2=%f\" % model.score(X_test, y_test)"
   ]
  },
  {
   "cell_type": "markdown",
   "metadata": {},
   "source": [
    "Con una regresión linear ordinaria se logra un R² de 0.6."
   ]
  },
  {
   "cell_type": "code",
   "execution_count": 21,
   "metadata": {
    "collapsed": false
   },
   "outputs": [
    {
     "name": "stdout",
     "output_type": "stream",
     "text": [
      "R2=0.504787\n"
     ]
    }
   ],
   "source": [
    "import sklearn.linear_model as lm\n",
    "\n",
    "model = lm.LassoCV(n_jobs=7)\n",
    "\n",
    "model.fit(X_train, y_train)\n",
    "\n",
    "print \"R2=%f\" % model.score(X_test, y_test)"
   ]
  },
  {
   "cell_type": "markdown",
   "metadata": {},
   "source": [
    "Se prueba además con Lasso pero se obtiene peor resultados. Normalizar los datos no cambia en nada el R².\n",
    "Se utiliza la clase LassoCV que recorre varios valores de alpha y elije el mejor en el conjunto de entrenamiento.\n",
    "El alpha de Lasso es:"
   ]
  },
  {
   "cell_type": "code",
   "execution_count": 22,
   "metadata": {
    "collapsed": false
   },
   "outputs": [
    {
     "data": {
      "text/plain": [
       "15405802.603399234"
      ]
     },
     "execution_count": 22,
     "metadata": {},
     "output_type": "execute_result"
    }
   ],
   "source": [
    "model.alpha_"
   ]
  },
  {
   "cell_type": "code",
   "execution_count": 23,
   "metadata": {
    "collapsed": false
   },
   "outputs": [
    {
     "name": "stdout",
     "output_type": "stream",
     "text": [
      "R2=0.563866\n"
     ]
    }
   ],
   "source": [
    "import sklearn.linear_model as lm\n",
    "\n",
    "model = lm.RidgeCV()\n",
    "\n",
    "model.fit(X_train, y_train)\n",
    "\n",
    "print \"R2=%f\" % model.score(X_test, y_test)"
   ]
  },
  {
   "cell_type": "markdown",
   "metadata": {},
   "source": [
    "Tampoco tenemos suerte con Ridge.\n",
    "\n",
    "El alpha de Ridge es:"
   ]
  },
  {
   "cell_type": "code",
   "execution_count": null,
   "metadata": {
    "collapsed": false
   },
   "outputs": [
    {
     "data": {
      "text/plain": [
       "10.0"
      ]
     },
     "execution_count": 24,
     "metadata": {},
     "output_type": "execute_result"
    }
   ],
   "source": [
    "model.alpha_"
   ]
  },
  {
   "cell_type": "markdown",
   "metadata": {},
   "source": [
    "Se prueba con ElasticNet que mezcla ambos modelos:"
   ]
  },
  {
   "cell_type": "code",
   "execution_count": null,
   "metadata": {
    "collapsed": false
   },
   "outputs": [
    {
     "name": "stderr",
     "output_type": "stream",
     "text": [
      "/usr/lib64/python2.7/site-packages/sklearn/linear_model/coordinate_descent.py:466: ConvergenceWarning: Objective did not converge. You might want to increase the number of iterations\n",
      "  ConvergenceWarning)\n",
      "........"
     ]
    }
   ],
   "source": [
    "import sklearn.linear_model as lm\n",
    "\n",
    "model = lm.ElasticNetCV(l1_ratio=np.arange(0, 1, 0.1), alphas=np.arange(0, 1, 0.1), n_jobs=7, verbose=1)\n",
    "\n",
    "model.fit(X_train, y_train)\n",
    "\n",
    "print \"R2=%f\" % model.score(X_test, y_test)"
   ]
  },
  {
   "cell_type": "markdown",
   "metadata": {},
   "source": [
    "Y luego se ejecuta en un rango más acotado conforme a los optimos obtenidos anteriormente:"
   ]
  },
  {
   "cell_type": "code",
   "execution_count": null,
   "metadata": {
    "collapsed": true
   },
   "outputs": [],
   "source": [
    "import sklearn.linear_model as lm\n",
    "\n",
    "model = lm.ElasticNetCV(l1_ratio=np.arange(0, 0.1, 0.01), alphas=np.arange(0.8, 1, 0.01), n_jobs=7, verbose=1)\n",
    "\n",
    "model.fit(X_train, y_train)\n",
    "\n",
    "print \"R2=%f\" % model.score(X_test, y_test)"
   ]
  },
  {
   "cell_type": "markdown",
   "metadata": {},
   "source": [
    "Se obtienen el mejor resultado hasta el momento.\n",
    "\n",
    "A continuación en vez de realizar cross-validation se usa el conjunto de validación (\"dev\") y modificando los parametros manualmente:"
   ]
  },
  {
   "cell_type": "code",
   "execution_count": null,
   "metadata": {
    "collapsed": true
   },
   "outputs": [],
   "source": [
    "import sklearn.linear_model as lm\n",
    "\n",
    "model = lm.ElasticNet(alpha = 0.05, l1_ratio=0.775)\n",
    "model.fit(X_train, y_train)\n",
    "\n",
    "print \"R2=%f\" % model.score(X_dev, y_dev)"
   ]
  },
  {
   "cell_type": "markdown",
   "metadata": {},
   "source": [
    "Dando:"
   ]
  },
  {
   "cell_type": "code",
   "execution_count": null,
   "metadata": {
    "collapsed": true
   },
   "outputs": [],
   "source": [
    "print \"R2=%f\" % model.score(X_test, y_test)"
   ]
  },
  {
   "cell_type": "markdown",
   "metadata": {},
   "source": [
    "Cabe mencionar que se probo con tecnicas como Grid Search y Randomized Parameter Optimization pero sus tiempos de computo fueron excesivos."
   ]
  },
  {
   "cell_type": "code",
   "execution_count": null,
   "metadata": {
    "collapsed": true
   },
   "outputs": [],
   "source": [
    "(0.634180)**0.5"
   ]
  },
  {
   "cell_type": "markdown",
   "metadata": {},
   "source": [
    "Esto implica un R de 0.796 aproximadamente."
   ]
  },
  {
   "cell_type": "markdown",
   "metadata": {
    "collapsed": true
   },
   "source": [
    "# Conclusiones"
   ]
  },
  {
   "cell_type": "markdown",
   "metadata": {},
   "source": [
    "En regresiones donde los datos tienen múltiples dimensiones es fundamental tener mecanismos de reducir la dimensionalidad. Esto se puede realizar de forma directa (mediante agregar o remover variables) o indirecta (mediante Lasso o Ridge). Elegir el algoritmo depende de los datos y que tan agresivo queremos que sea la reducción, entendiendo que Lasso elimina más repentinamente dimensiones que Ridge.\n",
    "\n",
    "Técnicas combinadas que ensamblen diferentes algoritmos dan mejores resultados, al menos en el caso estudiado, que las técnicas individuales.\n",
    "\n",
    "La validación de los modelos que uno genera es importante para evitar falsas ilusiones de éxito. Técnicas como cross validation ayudan a entender la sensibilidad en el modelo dada una variación en el conjunto de entrenamiento.\n",
    "\n",
    "Además es fundamental la elección de parámetros. Elegir la mejor combinación de estos para un algoritmo puede significar mejoras importantes en la calidad del resultado y se presenta como un problema abierto de investigación.\n"
   ]
  },
  {
   "cell_type": "code",
   "execution_count": null,
   "metadata": {
    "collapsed": true
   },
   "outputs": [],
   "source": []
  }
 ],
 "metadata": {
  "kernelspec": {
   "display_name": "Python 2",
   "language": "python",
   "name": "python2"
  },
  "language_info": {
   "codemirror_mode": {
    "name": "ipython",
    "version": 2
   },
   "file_extension": ".py",
   "mimetype": "text/x-python",
   "name": "python",
   "nbconvert_exporter": "python",
   "pygments_lexer": "ipython2",
   "version": "2.7.11"
  }
 },
 "nbformat": 4,
 "nbformat_minor": 0
}
